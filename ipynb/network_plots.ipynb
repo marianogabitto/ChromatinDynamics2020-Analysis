{
 "cells": [
  {
   "cell_type": "code",
   "execution_count": 1,
   "metadata": {},
   "outputs": [
    {
     "data": {
      "application/javascript": [
       "\n",
       "// This is the javascript side to match js_proxy.py.\n",
       "// See js_proxy.py for an explanation of the command transfer\n",
       "// protocol\n",
       "\n",
       "// imitating ipywidgets/docs/source/examples/Custom Widget - Hello World.ipynb\n",
       "\n",
       "//require([\"widgets/js/widget\", \"widgets/js/manager\", \"underscore\", \"jquery\"\n",
       "//], function(widget, manager, _, $) {\n",
       "\n",
       "require.undef(\"JSProxy\");\n",
       "\n",
       "define(\"JSProxy\", ['@jupyter-widgets/base'], function(widgets) {\n",
       "\n",
       "    var JSProxyView = widgets.DOMWidgetView.extend({\n",
       "\n",
       "        render: function() {\n",
       "            var that = this;\n",
       "            that.on(\"displayed\", function() {\n",
       "                that.update();\n",
       "            });\n",
       "            // Wrap $el as a proper jQuery object\n",
       "            that.$$el = $(that.$el);\n",
       "            // \"new\" keyword emulation\n",
       "            // http://stackoverflow.com/questions/17342497/dynamically-control-arguments-while-creating-objects-in-javascript\n",
       "            that.$$el.New = function(klass, args) {\n",
       "                var obj = Object.create(klass.prototype);\n",
       "                return klass.apply(obj, args) || obj;\n",
       "            };\n",
       "\n",
       "            // fix key bindings for wayward element.\n",
       "            // XXXX This is a bit of a hack that may not be needed in future\n",
       "            // Jupyter releases.\n",
       "            that.$$el.Fix = function(element) {\n",
       "                debugger;\n",
       "                that.model.widget_manager.keyboard_manager.register_events(element);\n",
       "            };\n",
       "        },\n",
       "\n",
       "        update: function(options) {\n",
       "            var that = this;\n",
       "            var commands = that.model.get(\"commands\");\n",
       "            if (commands.length >= 2) {\n",
       "                var command_counter = commands[0];\n",
       "                var command_list = commands[1];\n",
       "                var level = commands[2];\n",
       "                level = that.check_level(level);\n",
       "                var results = [];\n",
       "                try {\n",
       "                    _.each(command_list, function(command,i) {\n",
       "                        var result = that.execute_command(command);\n",
       "                        results[i] = that.json_safe(result, level);\n",
       "                    });\n",
       "                } catch (err) {\n",
       "                    results.push(\"\" + err);\n",
       "                }\n",
       "                that.model.set(\"commands\", []);\n",
       "                that.model.set(\"results\", [command_counter, results])\n",
       "                that.touch();\n",
       "            }\n",
       "        },\n",
       "\n",
       "        execute_command: function(command) {\n",
       "            var that = this;\n",
       "            var result = command;\n",
       "            if ($.isArray(command)) {\n",
       "                var indicator = command[0];\n",
       "                var remainder = command.slice();\n",
       "                remainder.shift();\n",
       "                if (indicator == \"element\") {\n",
       "                    // Make sure the element is wrapped as a proper JQuery(UI) object\n",
       "                    if (!that.$$el) {\n",
       "                        that.$$el = $(that.$el);\n",
       "                    }\n",
       "                    result = that.$$el;\n",
       "                } else if (indicator == \"window\") {\n",
       "                    result = window;\n",
       "                } else if (indicator == \"method\") {\n",
       "                    var target_desc = remainder.shift();\n",
       "                    var target = that.execute_command(target_desc);\n",
       "                    var name = remainder.shift();\n",
       "                    var args = remainder.map(that.execute_command, that);\n",
       "                    var method = target[name];\n",
       "                    if (method) {\n",
       "                        result = method.apply(target, args);\n",
       "                    } else {\n",
       "                        result = \"In \" + target + \" no such method \" + name;\n",
       "                    }\n",
       "                } else if (indicator == \"function\") {\n",
       "                    var function_desc = remainder.shift();\n",
       "                    var function_value = that.execute_command(function_desc);\n",
       "                    var args = remainder.map(that.execute_command, that);\n",
       "                    // Use \"that\" as the \"this\" value for function values?\n",
       "                    result = function_value.apply(that, args);\n",
       "                } else if (indicator == \"id\") {\n",
       "                    result = remainder[0];\n",
       "                } else if (indicator == \"list\") {\n",
       "                    result = remainder.map(that.execute_command, that);\n",
       "                } else if (indicator == \"dict\") {\n",
       "                    result = {}\n",
       "                    var desc = remainder[0];\n",
       "                    for (var key in desc) {\n",
       "                        var key_desc = desc[key];\n",
       "                        var val = that.execute_command(key_desc);\n",
       "                        result[key] = val;\n",
       "                    }\n",
       "                } else if (indicator == \"callback\") {\n",
       "                    var identifier = remainder.shift();\n",
       "                    var data = remainder.shift();\n",
       "                    var level = remainder.shift();\n",
       "                    // sanity check\n",
       "                    level = that.check_level(level);\n",
       "                    result = that.callback_factory(identifier, data, level);\n",
       "                } else if (indicator == \"get\") {\n",
       "                    var target_desc = remainder.shift();\n",
       "                    var target = that.execute_command(target_desc);\n",
       "                    var name = remainder.shift();\n",
       "                    try {\n",
       "                        result = target[name];\n",
       "                    } catch(err) {\n",
       "                        result = \"failed to get \"+name+\" from \"+target+\" :: \"+err;\n",
       "                    }\n",
       "                } else if (indicator == \"set\") {\n",
       "                    var target_desc = remainder.shift();\n",
       "                    var target = that.execute_command(target_desc);\n",
       "                    var name = remainder.shift();\n",
       "                    var value_desc = remainder.shift()\n",
       "                    var value = that.execute_command(value_desc);\n",
       "                    target[name] = value;\n",
       "                    result = target;\n",
       "                } else if (indicator == \"null\") {\n",
       "                    target_desc = remainder.shift();\n",
       "                    that.execute_command(target_desc);\n",
       "                    result = null;\n",
       "                } else {\n",
       "                    result = \"Unknown indicator \" + indicator;\n",
       "                }\n",
       "            }\n",
       "            return result;\n",
       "        },\n",
       "\n",
       "        check_level: function(level) {\n",
       "            if ((typeof level) != \"number\" || (level < 0)) {\n",
       "                level = 0;\n",
       "            } else if (level > 5) {\n",
       "                level = 5;\n",
       "            }\n",
       "            return level;\n",
       "        },\n",
       "\n",
       "        callback_factory: function(identifier, data, level) {\n",
       "            var that = this;\n",
       "            // Counter makes sure change is noticed even if other arguments don't change.\n",
       "            var counter = 0;\n",
       "            var handler = function () {\n",
       "                counter += 1;\n",
       "                var payload = that.json_safe([identifier, data, arguments, counter], level + 1);\n",
       "                that.model.set(\"callback_results\", payload);\n",
       "                that.touch();\n",
       "            };\n",
       "            return handler;\n",
       "        },\n",
       "\n",
       "        json_safe: function(val, depth) {\n",
       "            // maybe expand later as need arises\n",
       "            var that = this;\n",
       "            var ty = (typeof val);\n",
       "            if ((ty == \"number\") || (ty == \"string\") || (ty == \"boolean\")) {\n",
       "                return val;\n",
       "            }\n",
       "            if (!val) {\n",
       "                // translate all other falsies to None\n",
       "                return null;\n",
       "            }\n",
       "            if (((typeof depth) == \"number\") && (depth > 0)) {\n",
       "                if ($.isArray(val)) {\n",
       "                    var result = [];\n",
       "                    _.each(val, function(elt, i) {\n",
       "                        var r = that.json_safe(elt, depth-1);\n",
       "                        if (r != null) {\n",
       "                            result[i] = r;\n",
       "                        }\n",
       "                    });\n",
       "                    return result;\n",
       "                } else {\n",
       "                    var result = {};\n",
       "                    for (var key in val) {\n",
       "                        var jv = that.json_safe(val[key], depth-1);\n",
       "                        if (jv != null) {\n",
       "                            result[key] = jv;\n",
       "                        }\n",
       "                    }\n",
       "                    return result;\n",
       "                }\n",
       "            }\n",
       "            return null;\n",
       "        }\n",
       "\n",
       "    });\n",
       "\n",
       "    //manager.WidgetManager.register_widget_view('JSProxyView', JSProxyView);\n",
       "    return {\n",
       "        JSProxyView: JSProxyView\n",
       "    }\n",
       "});\n"
      ],
      "text/plain": [
       "<IPython.core.display.Javascript object>"
      ]
     },
     "metadata": {},
     "output_type": "display_data"
    },
    {
     "data": {
      "application/javascript": [
       "debugger;\n",
       "// imitating ipywidgets/docs/source/examples/Custom Widget - Hello World.ipynb\n",
       "\n",
       "//require([\"widgets/js/widget\", \"widgets/js/manager\"], function(widget, manager){\n",
       "\n",
       "require.undef(\"SVGCanvas\");\n",
       "\n",
       "define(\"SVGCanvas\", ['@jupyter-widgets/base'], function(widgets) {\n",
       "    debugger;\n",
       "    var svgEventHandlerFactory = function(that) {\n",
       "        // each animation frame only send one event of each type\n",
       "        var messages = [];\n",
       "        var bufferMessage = function(message) {\n",
       "            var typ = message.payload.type;\n",
       "            var old_messages = messages;\n",
       "            var new_messages = [];\n",
       "            for (var i=0; i<old_messages.length; i++) {\n",
       "                var old_message = old_messages[i];\n",
       "                if (old_message.payload.type != typ) {\n",
       "                    new_messages.push(old_message)\n",
       "                }\n",
       "            }\n",
       "            new_messages.push(message);\n",
       "            messages = new_messages;\n",
       "            if (old_messages.length == 0) {\n",
       "                //requestAnimationFrame(sendMessagesAtFrame);\n",
       "                setTimeout(sendMessagesAtFrame, 100);\n",
       "            }\n",
       "        };\n",
       "        var sendMessagesAtFrame = function () {\n",
       "            var msgs = messages;\n",
       "            messages = [];\n",
       "            for (var i=0; i<msgs.length; i++) {\n",
       "                var message = msgs[i];\n",
       "                that.model.send(message);\n",
       "            }\n",
       "        };\n",
       "        var svgEventHandler = function(e) {\n",
       "            // ignore events while there are pending commands.\n",
       "            //if (that.model.get(\"command_pending\")) {\n",
       "            //    return;\n",
       "            //}\n",
       "            var target = e.target;\n",
       "            var info = {};\n",
       "            for (var attr in e) {\n",
       "                var val = e[attr];\n",
       "                var ty = (typeof val);\n",
       "                if ((ty == \"number\") ||\n",
       "                    (ty == \"string\") ||\n",
       "                    (ty == \"boolean\")) {\n",
       "                    info[attr] = val;\n",
       "                }\n",
       "            }\n",
       "            info.name = target.ipy_name;\n",
       "            var ept = SVGEventLocation(that, e);\n",
       "            info.svgX = ept.x;\n",
       "            info.svgY = ept.y;\n",
       "            var message = {\n",
       "                \"indicator\": \"event\",\n",
       "                \"payload\": info\n",
       "            };\n",
       "            bufferMessage(message);\n",
       "            //that.model.send(message);\n",
       "            //var json = JSON.stringify(info);\n",
       "            //that.model.set(\"event\", json);\n",
       "            //that.touch();\n",
       "        };\n",
       "        return svgEventHandler;\n",
       "    };\n",
       "\n",
       "    var SVGEventLocation = function(that, e) {\n",
       "        // http://stackoverflow.com/questions/10298658/mouse-position-inside-autoscaled-svg\n",
       "        var pt = that.reference_point;\n",
       "        var svg = that.$svg[0];\n",
       "        pt.x = e.clientX;\n",
       "        pt.y = e.clientY;\n",
       "        return pt.matrixTransform(svg.getScreenCTM().inverse());\n",
       "    }\n",
       "    \n",
       "    var SVGCanvasView = widgets.DOMWidgetView.extend({\n",
       "        \n",
       "        render: function() {\n",
       "            debugger;\n",
       "            var that = this;\n",
       "            var svg = that.svg_elt(\"svg\");\n",
       "            var eventHandler = svgEventHandlerFactory(that);\n",
       "            that.eventHandler = eventHandler;\n",
       "            that.named_elements = {};\n",
       "            svg.ipy_name = \"\";\n",
       "            that.$svg = $(svg);\n",
       "            that.reference_point = svg.createSVGPoint();\n",
       "            svg.setAttribute(\"preserveAspectRatio\", \"none\");\n",
       "            that.$el.append(that.$svg);\n",
       "            that.svg_parameters_changed();\n",
       "            //that.commands_changed();\n",
       "            that.start_watch_event();\n",
       "            //that.model.on(\"change:commands\", that.commands_changed, that);\n",
       "            that.model.on(\"msg:custom\", function(content, buffers, widget) {\n",
       "                that.handle_custom_message(content, buffers, widget);\n",
       "            });\n",
       "            that.model.on(\"change:viewBox\", that.svg_parameters_changed, that);\n",
       "            that.model.on(\"change:svg_width\", that.svg_parameters_changed, that);\n",
       "            that.model.on(\"change:svg_height\", that.svg_parameters_changed, that);\n",
       "            that.model.on(\"change:svg_style\", that.svg_parameters_changed, that);\n",
       "            that.model.on(\"change:watch_event\", that.start_watch_event, that);\n",
       "            that.model.on(\"change:unwatch_event\", that.stop_watch_event, that);\n",
       "            that.model.set(\"rendered\", true);\n",
       "            that.touch();\n",
       "        },\n",
       "        \n",
       "        start_watch_event: function() {\n",
       "            var that = this;\n",
       "            var event_types = that.model.get(\"watch_event\");\n",
       "            if (event_types != \"\") {\n",
       "                that.$svg.on(event_types, that.eventHandler);\n",
       "                that.model.set(\"watch_event\", \"\");\n",
       "                that.touch();\n",
       "            }\n",
       "        },\n",
       "        \n",
       "        stop_watch_event: function() {\n",
       "            var that = this;\n",
       "            var event_types = that.model.get(\"unwatch_event\");\n",
       "            if (event_types != \"\") {\n",
       "                that.$svg.off(event_types);\n",
       "                that.model.set(\"watch_event\", \"\");\n",
       "                that.touch();\n",
       "            }\n",
       "        },\n",
       "        \n",
       "        handle_custom_message: function(commands_pair, buffers, widget) {\n",
       "            var that = this;\n",
       "            try {\n",
       "                var svg = that.$svg[0];\n",
       "                //var commands_pair = that.get_JSON(\"commands\")\n",
       "                // ignore the counter\n",
       "                var commands = [];\n",
       "                if (commands_pair.length > 0) {\n",
       "                    commands = commands_pair[1];\n",
       "                }\n",
       "                for (var i=0; i<commands.length; i++) {\n",
       "                    var command_dict = commands[i];\n",
       "                    var indicator = command_dict[\"command\"];\n",
       "                    var method = that[\"do_\"+indicator];\n",
       "                    method(that, command_dict);\n",
       "                }\n",
       "            }\n",
       "            finally {\n",
       "                that.model.set(\"command_pending\", false);\n",
       "                that.touch();\n",
       "            }\n",
       "        },\n",
       "\n",
       "        do_fit: function(that, info) {\n",
       "            // fit viewport to bounding box.\n",
       "            var svg = that.$svg[0];\n",
       "            var bbox = svg.getBBox();\n",
       "            var D = {\"width\": bbox.width, \"height\": bbox.height, \"x\": bbox.x, \"y\": bbox.y}\n",
       "            var vbox = \"\" + D.x + \" \" + D.y + \" \" + D.width + \" \" + D.height;\n",
       "            if ((D.width > 0) && (D.height > 0)) {\n",
       "                that.model.set(\"boundingBox\", D);\n",
       "                if (info.changeView) {\n",
       "                    that.model.set(\"viewBox\", vbox);\n",
       "                }\n",
       "                // Element viewBox will be updated later by model change.\n",
       "                that.touch();\n",
       "            }\n",
       "        },\n",
       "\n",
       "        do_get_SVG_text(that, info) {\n",
       "            // deliver the SVG text to the python kernel\n",
       "            var text = that.$svg[0].innerHTML;\n",
       "            var message = {\n",
       "                \"indicator\": \"SVG_text\",\n",
       "                \"payload\": text\n",
       "            };\n",
       "            that.model.send(message);\n",
       "        },\n",
       "        \n",
       "        do_add_element: function (that, info) {\n",
       "            var tag = info.tag;\n",
       "            var name = info.name;\n",
       "            var element = that.svg_elt(tag);\n",
       "            element.ipy_name = name;\n",
       "            var $element = $(element);\n",
       "            that.update_element($element, info);\n",
       "            // add event callbacks\n",
       "            that.$svg.append($element);\n",
       "            that.named_elements[name] = $element;\n",
       "        },\n",
       "        \n",
       "        do_change_element: function (that, info) {\n",
       "            var name = info.name;\n",
       "            var $element = that.named_elements[name];\n",
       "            if ($element) {\n",
       "                that.update_element($element, info);\n",
       "            } else {\n",
       "                console.warn(\"couldn't find element for \"+name);\n",
       "            }\n",
       "        },\n",
       "        \n",
       "        do_delete: function (that, info) {\n",
       "            var names = info.names;\n",
       "            for (var i=0; i<names.length; i++) {\n",
       "                var name = names[i];\n",
       "                var $element = that.named_elements[name];\n",
       "                if ($element) {\n",
       "                    $element.remove();\n",
       "                    delete that.named_elements[name];\n",
       "                }\n",
       "            }\n",
       "        },\n",
       "        \n",
       "        update_element: function($element, info) {\n",
       "            var element = $element[0];\n",
       "            var atts = info.atts;\n",
       "            var style = info.style;\n",
       "            var text = info.text;\n",
       "            if (atts) {\n",
       "                for (var att in atts) {\n",
       "                    element.setAttribute(att, atts[att]);\n",
       "                }\n",
       "            }\n",
       "            if (style) {\n",
       "                for (var styling in style) {\n",
       "                    element.style[styling] = style[styling];\n",
       "                }\n",
       "            }\n",
       "            if (text) {\n",
       "                $element.empty();\n",
       "                var node = document.createTextNode(text);\n",
       "                element.appendChild(node);\n",
       "            }\n",
       "        },\n",
       "        \n",
       "        do_empty: function (that, info) {\n",
       "            that.named_elements = {};\n",
       "            that.$svg.empty();\n",
       "        },\n",
       "        \n",
       "        svg_parameters_changed: function() {\n",
       "            var that = this;\n",
       "            var style_additions = that.get_JSON(\"svg_style\");\n",
       "            var svg = that.$svg[0];\n",
       "            svg.setAttribute(\"viewBox\", that.model.get(\"viewBox\"));\n",
       "            svg.setAttribute(\"width\", that.model.get(\"svg_width\"));\n",
       "            svg.setAttribute(\"height\", that.model.get(\"svg_height\"));\n",
       "            for (var style_attr in style_additions) {\n",
       "                svg.style[style_attr] = style_additions[style_attr];\n",
       "            }\n",
       "        },\n",
       "        \n",
       "        get_JSON: function(name) {\n",
       "            var json = this.model.get(name);\n",
       "            return $.parseJSON(json);\n",
       "        },\n",
       "        \n",
       "        svg_elt: function(kind) {\n",
       "            return document.createElementNS('http://www.w3.org/2000/svg', kind);\n",
       "        }\n",
       "        \n",
       "    });\n",
       "    \n",
       "    //manager.WidgetManager.register_widget_view('SVGCanvasView', SVGCanvasView);\n",
       "    return {\n",
       "        SVGCanvasView: SVGCanvasView\n",
       "    }\n",
       "});\n"
      ],
      "text/plain": [
       "<IPython.core.display.Javascript object>"
      ]
     },
     "metadata": {},
     "output_type": "display_data"
    },
    {
     "data": {
      "application/javascript": [
       "/*\n",
       "jQuery plugin for a color arrow cursor over an element.\n",
       "\n",
       "Based on\n",
       "http://stackoverflow.com/questions/18779354/assign-color-to-mouse-cursor-using-css\n",
       "*/\n",
       "\n",
       "(function ($) {\n",
       "\n",
       "    $.fn.color_cursor = function(color) {\n",
       "        var that = this;\n",
       "        var cvs = document.createElement(\"canvas\");\n",
       "        cvs.height = 16;\n",
       "        cvs.width = 16;\n",
       "        var ctx = cvs.getContext(\"2d\");\n",
       "        ctx.strokeStyle = color;\n",
       "        ctx.lineWidth = 4;\n",
       "        ctx.lineCap = \"round\";\n",
       "        ctx.moveTo(2, 12);\n",
       "        ctx.lineTo(2, 2);\n",
       "        ctx.lineTo(12, 2);\n",
       "        ctx.moveTo(2, 2);\n",
       "        ctx.lineTo(30, 30)    \n",
       "        ctx.stroke();\n",
       "        var url = cvs.toDataURL();\n",
       "        that.css(\"cursor\", \"url(\" + url + '), auto');\n",
       "        return that;\n",
       "    };\n",
       "\n",
       "    $.fn.color_cursor_reset = function () {\n",
       "        this.css(\"cursor\", \"\");\n",
       "        return this;\n",
       "    };\n",
       "\n",
       "    $.fn.color_cursor.example = function (element) {\n",
       "        debugger;\n",
       "        var d = $(\"<div>Cursor should be red over me. Click to reset.</div>\")\n",
       "            .color_cursor(\"red\");\n",
       "        var reset = function() {\n",
       "            d.color_cursor_reset();\n",
       "            d.html(\"Now the cursor should be normal\");\n",
       "        }\n",
       "        d.click(reset);\n",
       "        element.append(d);\n",
       "        return element;\n",
       "    };\n",
       "\n",
       "})(jQuery)\n"
      ],
      "text/plain": [
       "<IPython.core.display.Javascript object>"
      ]
     },
     "metadata": {},
     "output_type": "display_data"
    }
   ],
   "source": [
    "import sys\n",
    "from jp_gene_viz import dNetwork\n",
    "dNetwork.load_javascript_support()\n",
    "\n",
    "def net_to_html(net, name, out, threshold=0):\n",
    "    N = dNetwork.display_network(net)\n",
    "    N.title_html.value = name\n",
    "    my_tfs = list(set([x['regulator'] for x in N.data_graph.edge_attributes.itervalues()]))\n",
    "\n",
    "    nodes = list(N.data_graph.node_weights.keys())\n",
    "    for name in nodes:\n",
    "        N.override_node(name, color='black', shape='circle', radius=1)\n",
    "        N.override_label(name, color='black', hide=True, font_size=0)\n",
    "\n",
    "    edges = list(N.data_graph.edge_weights)\n",
    "    for edge in edges:\n",
    "        N.override_edge(edge[0], edge[1], color='green',stroke_width=.1) \n",
    "\n",
    "    for name in my_tfs:\n",
    "        N.override_node(name, color='red', shape='circle', radius=2)\n",
    "        N.override_label(name, color='black', hide=False, font_size=10)\n",
    "\n",
    "    N.threshhold = threshold\n",
    "    N.layout_dropdown.value = 'reingold_tilford_circular'\n",
    "    N.layout_button.click()\n",
    "\n",
    "    N.save_as_SVG_file(out)\n"
   ]
  },
  {
   "cell_type": "code",
   "execution_count": 2,
   "metadata": {},
   "outputs": [
    {
     "name": "stdout",
     "output_type": "stream",
     "text": [
      "('Reading network', 'E18_PV.tsv')\n",
      "('Loading saved layout', 'E18_PV.tsv.layout.json')\n",
      "Omitting edges, using canvas, and fast layout default because the network is large\n"
     ]
    },
    {
     "data": {
      "application/vnd.jupyter.widget-view+json": {
       "model_id": "2c8f31360d7040918544fff0d697cc19",
       "version_major": 2,
       "version_minor": 0
      },
      "text/plain": [
       "SEJveChjaGlsZHJlbj0oVkJveChjaGlsZHJlbj0oRHJvcGRvd24oaW5kZXg9MSwgbGF5b3V0PUxheW91dCh3aWR0aD11JzE1MHB4JyksIG9wdGlvbnM9KCdTVkcnLCAnY2FudmFzJyksIHZhbHXigKY=\n"
      ]
     },
     "metadata": {},
     "output_type": "display_data"
    },
    {
     "name": "stdout",
     "output_type": "stream",
     "text": [
      "Saving as 'E18_PV.html' asynchronously.\n",
      "('Reading network', 'E18_SST.tsv')\n",
      "('Loading saved layout', 'E18_SST.tsv.layout.json')\n",
      "Omitting edges, using canvas, and fast layout default because the network is large\n"
     ]
    },
    {
     "data": {
      "application/vnd.jupyter.widget-view+json": {
       "model_id": "f84135cb23df4608ad16a3b768707b82",
       "version_major": 2,
       "version_minor": 0
      },
      "text/plain": [
       "SEJveChjaGlsZHJlbj0oVkJveChjaGlsZHJlbj0oRHJvcGRvd24oaW5kZXg9MSwgbGF5b3V0PUxheW91dCh3aWR0aD11JzE1MHB4JyksIG9wdGlvbnM9KCdTVkcnLCAnY2FudmFzJyksIHZhbHXigKY=\n"
      ]
     },
     "metadata": {},
     "output_type": "display_data"
    },
    {
     "name": "stdout",
     "output_type": "stream",
     "text": [
      "Saving as 'E18_SST.html' asynchronously.\n",
      "('Reading network', 'P2_PV.tsv')\n",
      "('Loading saved layout', 'P2_PV.tsv.layout.json')\n",
      "Omitting edges, using canvas, and fast layout default because the network is large\n"
     ]
    },
    {
     "data": {
      "application/vnd.jupyter.widget-view+json": {
       "model_id": "4a08b5b02c9542a1b7b0266ae9e67e61",
       "version_major": 2,
       "version_minor": 0
      },
      "text/plain": [
       "SEJveChjaGlsZHJlbj0oVkJveChjaGlsZHJlbj0oRHJvcGRvd24oaW5kZXg9MSwgbGF5b3V0PUxheW91dCh3aWR0aD11JzE1MHB4JyksIG9wdGlvbnM9KCdTVkcnLCAnY2FudmFzJyksIHZhbHXigKY=\n"
      ]
     },
     "metadata": {},
     "output_type": "display_data"
    },
    {
     "name": "stdout",
     "output_type": "stream",
     "text": [
      "Saving as 'P2_PV.html' asynchronously.\n",
      "('Reading network', 'P2_SST.tsv')\n",
      "('Loading saved layout', 'P2_SST.tsv.layout.json')\n",
      "Omitting edges, using canvas, and fast layout default because the network is large\n"
     ]
    },
    {
     "data": {
      "application/vnd.jupyter.widget-view+json": {
       "model_id": "ce09bdd4e8f442bf8473b019ea2829eb",
       "version_major": 2,
       "version_minor": 0
      },
      "text/plain": [
       "SEJveChjaGlsZHJlbj0oVkJveChjaGlsZHJlbj0oRHJvcGRvd24oaW5kZXg9MSwgbGF5b3V0PUxheW91dCh3aWR0aD11JzE1MHB4JyksIG9wdGlvbnM9KCdTVkcnLCAnY2FudmFzJyksIHZhbHXigKY=\n"
      ]
     },
     "metadata": {},
     "output_type": "display_data"
    },
    {
     "name": "stdout",
     "output_type": "stream",
     "text": [
      "Saving as 'P2_SST.html' asynchronously.\n",
      "('Reading network', 'P28_PV.tsv')\n",
      "('Loading saved layout', 'P28_PV.tsv.layout.json')\n",
      "Omitting edges, using canvas, and fast layout default because the network is large\n"
     ]
    },
    {
     "data": {
      "application/vnd.jupyter.widget-view+json": {
       "model_id": "cd8ba9cf1a3a40388b7b9bc5c875bddb",
       "version_major": 2,
       "version_minor": 0
      },
      "text/plain": [
       "SEJveChjaGlsZHJlbj0oVkJveChjaGlsZHJlbj0oRHJvcGRvd24oaW5kZXg9MSwgbGF5b3V0PUxheW91dCh3aWR0aD11JzE1MHB4JyksIG9wdGlvbnM9KCdTVkcnLCAnY2FudmFzJyksIHZhbHXigKY=\n"
      ]
     },
     "metadata": {},
     "output_type": "display_data"
    },
    {
     "name": "stdout",
     "output_type": "stream",
     "text": [
      "Saving as 'P28_PV.html' asynchronously.\n",
      "('Reading network', 'P28_SST.tsv')\n",
      "('Loading saved layout', 'P28_SST.tsv.layout.json')\n",
      "Omitting edges, using canvas, and fast layout default because the network is large\n"
     ]
    },
    {
     "data": {
      "application/vnd.jupyter.widget-view+json": {
       "model_id": "ac2804d941cb450abdc3d0fa4572ac55",
       "version_major": 2,
       "version_minor": 0
      },
      "text/plain": [
       "SEJveChjaGlsZHJlbj0oVkJveChjaGlsZHJlbj0oRHJvcGRvd24oaW5kZXg9MSwgbGF5b3V0PUxheW91dCh3aWR0aD11JzE1MHB4JyksIG9wdGlvbnM9KCdTVkcnLCAnY2FudmFzJyksIHZhbHXigKY=\n"
      ]
     },
     "metadata": {},
     "output_type": "display_data"
    },
    {
     "name": "stdout",
     "output_type": "stream",
     "text": [
      "Saving as 'P28_SST.html' asynchronously.\n",
      "('Reading network', 'E18_shared.tsv')\n",
      "('Loading saved layout', 'E18_shared.tsv.layout.json')\n",
      "Omitting edges, using canvas, and fast layout default because the network is large\n"
     ]
    },
    {
     "data": {
      "application/vnd.jupyter.widget-view+json": {
       "model_id": "f2e63a2d6d0e4b6384082c3a4d7cb760",
       "version_major": 2,
       "version_minor": 0
      },
      "text/plain": [
       "SEJveChjaGlsZHJlbj0oVkJveChjaGlsZHJlbj0oRHJvcGRvd24oaW5kZXg9MSwgbGF5b3V0PUxheW91dCh3aWR0aD11JzE1MHB4JyksIG9wdGlvbnM9KCdTVkcnLCAnY2FudmFzJyksIHZhbHXigKY=\n"
      ]
     },
     "metadata": {},
     "output_type": "display_data"
    },
    {
     "name": "stdout",
     "output_type": "stream",
     "text": [
      "Saving as 'E18_shared.html' asynchronously.\n",
      "('Reading network', 'P2_shared.tsv')\n",
      "('Loading saved layout', 'P2_shared.tsv.layout.json')\n",
      "Omitting edges, using canvas, and fast layout default because the network is large\n"
     ]
    },
    {
     "data": {
      "application/vnd.jupyter.widget-view+json": {
       "model_id": "684810fd8a3f401aaff8f67c3e02368c",
       "version_major": 2,
       "version_minor": 0
      },
      "text/plain": [
       "SEJveChjaGlsZHJlbj0oVkJveChjaGlsZHJlbj0oRHJvcGRvd24oaW5kZXg9MSwgbGF5b3V0PUxheW91dCh3aWR0aD11JzE1MHB4JyksIG9wdGlvbnM9KCdTVkcnLCAnY2FudmFzJyksIHZhbHXigKY=\n"
      ]
     },
     "metadata": {},
     "output_type": "display_data"
    },
    {
     "name": "stdout",
     "output_type": "stream",
     "text": [
      "Saving as 'P2_shared.html' asynchronously.\n",
      "('Reading network', 'P28_shared.tsv')\n",
      "('Loading saved layout', 'P28_shared.tsv.layout.json')\n",
      "Omitting edges, using canvas, and fast layout default because the network is large\n"
     ]
    },
    {
     "data": {
      "application/vnd.jupyter.widget-view+json": {
       "model_id": "a8fd41a6b1ef4276be6c17f98f16df78",
       "version_major": 2,
       "version_minor": 0
      },
      "text/plain": [
       "SEJveChjaGlsZHJlbj0oVkJveChjaGlsZHJlbj0oRHJvcGRvd24oaW5kZXg9MSwgbGF5b3V0PUxheW91dCh3aWR0aD11JzE1MHB4JyksIG9wdGlvbnM9KCdTVkcnLCAnY2FudmFzJyksIHZhbHXigKY=\n"
      ]
     },
     "metadata": {},
     "output_type": "display_data"
    },
    {
     "name": "stdout",
     "output_type": "stream",
     "text": [
      "Saving as 'P28_shared.html' asynchronously.\n"
     ]
    }
   ],
   "source": [
    "net_to_html('E18_PV.tsv', 'E18_PV', 'E18_PV.html')\n",
    "net_to_html('E18_SST.tsv','E18_SST','E18_SST.html')\n",
    "\n",
    "net_to_html('P2_PV.tsv', 'P2_PV', 'P2_PV.html')\n",
    "net_to_html('P2_SST.tsv','P2_SST','P2_SST.html')\n",
    "\n",
    "net_to_html('P28_PV.tsv', 'P28_PV', 'P28_PV.html')\n",
    "net_to_html('P28_SST.tsv','P28_SST','P28_SST.html')\n",
    "\n",
    "net_to_html('E18_shared.tsv','E18_shared','E18_shared.html')\n",
    "net_to_html('P2_shared.tsv',  'P2_shared', 'P2_shared.html')\n",
    "net_to_html('P28_shared.tsv','P28_shared','P28_shared.html')\n"
   ]
  },
  {
   "cell_type": "code",
   "execution_count": null,
   "metadata": {},
   "outputs": [],
   "source": []
  }
 ],
 "metadata": {
  "kernelspec": {
   "display_name": "Python 2",
   "language": "python",
   "name": "python2"
  },
  "language_info": {
   "codemirror_mode": {
    "name": "ipython",
    "version": 2
   },
   "file_extension": ".py",
   "mimetype": "text/x-python",
   "name": "python",
   "nbconvert_exporter": "python",
   "pygments_lexer": "ipython2",
   "version": "2.7.18"
  },
  "widgets": {
   "application/vnd.jupyter.widget-state+json": {
    "state": {
     "0096d252fa9143f8a85adfab200559bc": {
      "model_module": "@jupyter-widgets/controls",
      "model_module_version": "1.5.0",
      "model_name": "CheckboxModel",
      "state": {
       "description": "settings",
       "disabled": false,
       "layout": "IPY_MODEL_fed8600aa6d74dd8a1d8834a1aba420a",
       "style": "IPY_MODEL_c5c01d8bbb1e4193b8df60ccadf7d9d9",
       "value": false
      }
     },
     "00eb14154327412586b38342a39c8c1d": {
      "model_module": "@jupyter-widgets/controls",
      "model_module_version": "1.5.0",
      "model_name": "HBoxModel",
      "state": {
       "children": [
        "IPY_MODEL_5527befad91e45db93fcf4fc1178a83f",
        "IPY_MODEL_3a87849960ce4da7a951b2098aaf533f"
       ],
       "layout": "IPY_MODEL_41145fa380dc4e039f1d5fe3d66b3985"
      }
     },
     "012d0b2fc6634181a2b6ae7c12bbf8f0": {
      "model_module": "@jupyter-widgets/base",
      "model_module_version": "1.2.0",
      "model_name": "LayoutModel",
      "state": {
       "width": "150px"
      }
     },
     "03ac188789864b069550a7ef50f7d48a": {
      "model_module": "@jupyter-widgets/controls",
      "model_module_version": "1.5.0",
      "model_name": "ButtonModel",
      "state": {
       "description": "save/load file name",
       "layout": "IPY_MODEL_28b5c7adaec1408685b66928f09a40d6",
       "style": "IPY_MODEL_c95cdc9fccd4415a8fa92377a50f4d4b"
      }
     },
     "03b770bcc9aa4ef6af1c171482477092": {
      "model_module": "@jupyter-widgets/base",
      "model_module_version": "1.2.0",
      "model_name": "LayoutModel",
      "state": {
       "width": "200px"
      }
     },
     "04938e23ab8f4a97a09418df0b381ed8": {
      "model_module": "@jupyter-widgets/base",
      "model_module_version": "1.2.0",
      "model_name": "DOMWidgetModel",
      "state": {
       "_model_name": "DOMWidgetModel",
       "_view_module": "SVGCanvas",
       "_view_module_version": "",
       "_view_name": "SVGCanvasView",
       "boundingBox": {},
       "command_pending": false,
       "layout": "IPY_MODEL_a2aab8590a59466ba171f7985d091393",
       "rendered": true,
       "svg_height": 238,
       "svg_style": "{}",
       "svg_width": 158,
       "unwatch_event": "",
       "viewBox": "-15 -15 158 238",
       "watch_event": ""
      }
     },
     "062088da2f7c447bba61c08e82bd8464": {
      "model_module": "@jupyter-widgets/base",
      "model_module_version": "1.2.0",
      "model_name": "LayoutModel",
      "state": {}
     },
     "0704ce5a4c224d4fa146e55df994f751": {
      "model_module": "@jupyter-widgets/controls",
      "model_module_version": "1.5.0",
      "model_name": "ButtonModel",
      "state": {
       "description": "regulates",
       "layout": "IPY_MODEL_8ba84198398948c08ddcb9a24bf5e1ab",
       "style": "IPY_MODEL_6af4a6e742f54c679307d0cac5675753"
      }
     },
     "07f5c16070c445d4bca2b5bdbb58a964": {
      "model_module": "@jupyter-widgets/controls",
      "model_module_version": "1.5.0",
      "model_name": "VBoxModel",
      "state": {
       "children": [
        "IPY_MODEL_36cf018489124a32bcd863021f1f1d4f",
        "IPY_MODEL_7e914041181c475aae8a7b12e75893c1",
        "IPY_MODEL_a8e0d829db8146469b99678e4837cd84",
        "IPY_MODEL_430d68d1bb534da7ac36bae6c1a64809",
        "IPY_MODEL_ade44526e7354ed38608eaa02c250ab9",
        "IPY_MODEL_ea5f53f7ff3149a89379eecb2fbfc1e5",
        "IPY_MODEL_3f810f4d0e2b48b5bb6e16325fa99466",
        "IPY_MODEL_0704ce5a4c224d4fa146e55df994f751",
        "IPY_MODEL_d9d789c3f7a9441783b8a7d945134841",
        "IPY_MODEL_8d1e84cb9527424aa2cc68b25f231695",
        "IPY_MODEL_69dd8853df7e4df7a5b62c76ef9d9c98",
        "IPY_MODEL_8d0c48a32be340fcae76ae0aa00aabf2",
        "IPY_MODEL_c17ef77ab0c04970a96fc8fa23557d50",
        "IPY_MODEL_0a74c1557ceb46fa9913c195e9f55e69",
        "IPY_MODEL_8c325c1569c54505a9acde24240f93c9",
        "IPY_MODEL_1b2ccbf6a9bd41eb9cfec9f9dd6dd632",
        "IPY_MODEL_b77e2ac4e25549b4b28da0e979907ae0",
        "IPY_MODEL_e3ae6902310548c08f5bcad36574954a",
        "IPY_MODEL_90e41f66c9d74d56b9919fa40dbdf29f",
        "IPY_MODEL_3119d3d670944968af96788f43165157",
        "IPY_MODEL_46e19aa4d1994bb9a305ddfd35698330",
        "IPY_MODEL_f4e60066d268411598a847448713c21a",
        "IPY_MODEL_8e7aa244c9a7441b9c5d7b14bd6d9bfd",
        "IPY_MODEL_83469263e4da4645a1a928dbda080489",
        "IPY_MODEL_fa731a7222794f02a1d236a7ef1c9758"
       ],
       "layout": "IPY_MODEL_12807f80d7a44b8f9246c64fcda7253b"
      }
     },
     "0920436a1c144eb4b81b8e5105585b80": {
      "model_module": "@jupyter-widgets/controls",
      "model_module_version": "1.5.0",
      "model_name": "DescriptionStyleModel",
      "state": {
       "description_width": ""
      }
     },
     "096213e3c67343c3a25f3b76919d2101": {
      "model_module": "@jupyter-widgets/controls",
      "model_module_version": "1.5.0",
      "model_name": "ButtonStyleModel",
      "state": {}
     },
     "09c43f849a67441e9e7c204d7a1aaeae": {
      "model_module": "@jupyter-widgets/base",
      "model_module_version": "1.2.0",
      "model_name": "LayoutModel",
      "state": {}
     },
     "09cf2d3ee97e4edc80314e711eecd018": {
      "model_module": "@jupyter-widgets/base",
      "model_module_version": "1.2.0",
      "model_name": "LayoutModel",
      "state": {}
     },
     "0a74c1557ceb46fa9913c195e9f55e69": {
      "model_module": "@jupyter-widgets/controls",
      "model_module_version": "1.5.0",
      "model_name": "ButtonModel",
      "state": {
       "description": "connected only",
       "layout": "IPY_MODEL_4c2e6646aa9146fc8c86dcdef9ee8d12",
       "style": "IPY_MODEL_4d6169a45ab24ecf80d138d489c317eb"
      }
     },
     "0ca2f9baca164840b0e615058ee967c3": {
      "model_module": "@jupyter-widgets/controls",
      "model_module_version": "1.5.0",
      "model_name": "DropdownModel",
      "state": {
       "_options_labels": [
        "+- all",
        "- only",
        "+ only"
       ],
       "index": 0,
       "layout": "IPY_MODEL_e6106bc8958344878020d292b16b7874",
       "style": "IPY_MODEL_0920436a1c144eb4b81b8e5105585b80"
      }
     },
     "0df8483643894a4bb4a8561c21578a9b": {
      "model_module": "@jupyter-widgets/base",
      "model_module_version": "1.2.0",
      "model_name": "LayoutModel",
      "state": {}
     },
     "0e5e5bbb1d3f4cc3a762742addde263f": {
      "model_module": "@jupyter-widgets/base",
      "model_module_version": "1.2.0",
      "model_name": "LayoutModel",
      "state": {
       "width": "150px"
      }
     },
     "0fd5a78ef9c24c3fb3fbcc7821efebc4": {
      "model_module": "@jupyter-widgets/base",
      "model_module_version": "1.2.0",
      "model_name": "LayoutModel",
      "state": {
       "width": "150px"
      }
     },
     "10e88028becc406ebefcad5b9331ffcb": {
      "model_module": "@jupyter-widgets/base",
      "model_module_version": "1.2.0",
      "model_name": "DOMWidgetModel",
      "state": {
       "_model_name": "DOMWidgetModel",
       "_view_module": "JSProxy",
       "_view_module_version": "",
       "_view_name": "JSProxyView",
       "callback_results": [],
       "commands": [],
       "layout": "IPY_MODEL_edddd4b7c158469aae43cbba2fa18113",
       "results": []
      }
     },
     "1155aa797bcb4deeb9106497a75d12fe": {
      "model_module": "@jupyter-widgets/base",
      "model_module_version": "1.2.0",
      "model_name": "LayoutModel",
      "state": {
       "width": "150px"
      }
     },
     "1157854127ee451ca4c40e71b0dfc4ba": {
      "model_module": "@jupyter-widgets/controls",
      "model_module_version": "1.5.0",
      "model_name": "VBoxModel",
      "state": {
       "children": [
        "IPY_MODEL_706102d53ac846de941a30043052fff6",
        "IPY_MODEL_97c58a80933344488631b39439fbc3c1",
        "IPY_MODEL_6b809db7d7064dfbb7a36bfa3c7d709d",
        "IPY_MODEL_3e6f797efddc47ea92781ed6cc7563c0"
       ],
       "layout": "IPY_MODEL_579013ccd0454d1ab18bf124842306cc"
      }
     },
     "1194d9cffe6242cbb013ab5efab2a83f": {
      "model_module": "@jupyter-widgets/controls",
      "model_module_version": "1.5.0",
      "model_name": "ButtonStyleModel",
      "state": {}
     },
     "11d200a0330949d88ad0373f596e0ca2": {
      "model_module": "@jupyter-widgets/controls",
      "model_module_version": "1.5.0",
      "model_name": "SliderStyleModel",
      "state": {
       "description_width": ""
      }
     },
     "12807f80d7a44b8f9246c64fcda7253b": {
      "model_module": "@jupyter-widgets/base",
      "model_module_version": "1.2.0",
      "model_name": "LayoutModel",
      "state": {}
     },
     "13ae1ead9c6e4f9ab9b3f952e1cf6145": {
      "model_module": "@jupyter-widgets/controls",
      "model_module_version": "1.5.0",
      "model_name": "IntSliderModel",
      "state": {
       "description": "labels",
       "layout": "IPY_MODEL_37156a75e72047a8b023b942b561143a",
       "max": 40,
       "style": "IPY_MODEL_34b6f8ff898041d2b9179a24a318959a",
       "value": 7
      }
     },
     "162fafdb62934686b8f2d36f9ca40d09": {
      "model_module": "@jupyter-widgets/controls",
      "model_module_version": "1.5.0",
      "model_name": "ButtonStyleModel",
      "state": {}
     },
     "1761af05a30f4cd3b04590d115d2cd20": {
      "model_module": "@jupyter-widgets/controls",
      "model_module_version": "1.5.0",
      "model_name": "DropdownModel",
      "state": {
       "_options_labels": [
        "SVG",
        "canvas"
       ],
       "index": 0,
       "layout": "IPY_MODEL_1155aa797bcb4deeb9106497a75d12fe",
       "style": "IPY_MODEL_1cc2b6dfbcf94583acc41914b42d83e2"
      }
     },
     "1793a1281ae54459b8ec5aa1ec48f919": {
      "model_module": "@jupyter-widgets/controls",
      "model_module_version": "1.5.0",
      "model_name": "HBoxModel",
      "state": {
       "children": [
        "IPY_MODEL_5d238faf1b0844b69bce065e31af5e85",
        "IPY_MODEL_4a41fe01135c43b0a7e5533c20f52d05"
       ],
       "layout": "IPY_MODEL_9e6457c3140042b5b45aa8c590e16529"
      }
     },
     "18653bffe861462f8e16d9009274c10b": {
      "model_module": "@jupyter-widgets/controls",
      "model_module_version": "1.5.0",
      "model_name": "SliderStyleModel",
      "state": {
       "description_width": ""
      }
     },
     "18922d5b216d4192816fecdde5459795": {
      "model_module": "@jupyter-widgets/controls",
      "model_module_version": "1.5.0",
      "model_name": "ButtonStyleModel",
      "state": {}
     },
     "18c86c8696d04248874826a27d9c106e": {
      "model_module": "@jupyter-widgets/base",
      "model_module_version": "1.2.0",
      "model_name": "LayoutModel",
      "state": {}
     },
     "1a04694b55a64d36ace5d80e7af94478": {
      "model_module": "@jupyter-widgets/base",
      "model_module_version": "1.2.0",
      "model_name": "LayoutModel",
      "state": {}
     },
     "1b2ccbf6a9bd41eb9cfec9f9dd6dd632": {
      "model_module": "@jupyter-widgets/controls",
      "model_module_version": "1.5.0",
      "model_name": "ButtonModel",
      "state": {
       "description": "layout",
       "layout": "IPY_MODEL_39071ab7ec074031bcf4748e852b5c33",
       "style": "IPY_MODEL_da4942b74daf4f468478a410c4fca5d2"
      }
     },
     "1c46ee48e5a54940b4bb5cdd3d70b897": {
      "model_module": "@jupyter-widgets/controls",
      "model_module_version": "1.5.0",
      "model_name": "IntSliderModel",
      "state": {
       "description": "tf labels",
       "layout": "IPY_MODEL_4b665bef86014da58f2e5cadc583f39f",
       "max": 40,
       "min": 5,
       "style": "IPY_MODEL_d7f5cb0fc27b4382a89d3396df50b35d",
       "value": 7
      }
     },
     "1cc2b6dfbcf94583acc41914b42d83e2": {
      "model_module": "@jupyter-widgets/controls",
      "model_module_version": "1.5.0",
      "model_name": "DescriptionStyleModel",
      "state": {
       "description_width": ""
      }
     },
     "1d4b06922d924135bb02aa17b88f22a6": {
      "model_module": "@jupyter-widgets/controls",
      "model_module_version": "1.5.0",
      "model_name": "DescriptionStyleModel",
      "state": {
       "description_width": ""
      }
     },
     "1d7556553df44d129c175ceac2837a8e": {
      "model_module": "@jupyter-widgets/base",
      "model_module_version": "1.2.0",
      "model_name": "LayoutModel",
      "state": {
       "display": "none"
      }
     },
     "1deef9e3237c4714b877f782f571388d": {
      "model_module": "@jupyter-widgets/controls",
      "model_module_version": "1.5.0",
      "model_name": "DescriptionStyleModel",
      "state": {
       "description_width": ""
      }
     },
     "1e0754e2ac7943fa8060b28f9696ec65": {
      "model_module": "@jupyter-widgets/controls",
      "model_module_version": "1.5.0",
      "model_name": "ButtonModel",
      "state": {
       "description": "restore",
       "layout": "IPY_MODEL_27b62289b47b4ba18e74d7d13741c44e",
       "style": "IPY_MODEL_971039e26aee44ae9e2d245fefa50e75"
      }
     },
     "1e2c41e444c04d5894bb5c05923f1065": {
      "model_module": "@jupyter-widgets/controls",
      "model_module_version": "1.5.0",
      "model_name": "HBoxModel",
      "state": {
       "children": [
        "IPY_MODEL_07f5c16070c445d4bca2b5bdbb58a964",
        "IPY_MODEL_1157854127ee451ca4c40e71b0dfc4ba",
        "IPY_MODEL_3e478aad0ee8400695d0cbbd637b061f",
        "IPY_MODEL_320bd021ca904eeba36011d4cf1d990a"
       ],
       "layout": "IPY_MODEL_ededca1b35f942d8acfe0f9555d6e9ec"
      }
     },
     "1e7c47daba8d4ddb885c0fd801cc16ce": {
      "model_module": "@jupyter-widgets/controls",
      "model_module_version": "1.5.0",
      "model_name": "HBoxModel",
      "state": {
       "children": [
        "IPY_MODEL_03ac188789864b069550a7ef50f7d48a",
        "IPY_MODEL_3be63e9964024d50ad3f4e4efeae3be4"
       ],
       "layout": "IPY_MODEL_7fc50b65581c4551a8c13e354325969e"
      }
     },
     "1e8f6455b0374149b20d8e6e402b63c7": {
      "model_module": "@jupyter-widgets/controls",
      "model_module_version": "1.5.0",
      "model_name": "TextareaModel",
      "state": {
       "description": "status",
       "layout": "IPY_MODEL_64ab7942f1564525b49c81c8ac8babd9",
       "style": "IPY_MODEL_5a73208890374b7a9c82a00db2199317",
       "value": "name u'LABEL_Slc6a8'"
      }
     },
     "1e91e973d8ed4fa886289c714e65a108": {
      "model_module": "@jupyter-widgets/controls",
      "model_module_version": "1.5.0",
      "model_name": "CheckboxModel",
      "state": {
       "description": "show motifs",
       "disabled": false,
       "layout": "IPY_MODEL_717198943d7f405284ab713893495265",
       "style": "IPY_MODEL_9c48b5be7641440d9856f6089a39ca9f",
       "value": true
      }
     },
     "2135ff83bc924a67b715286385948467": {
      "model_module": "@jupyter-widgets/controls",
      "model_module_version": "1.5.0",
      "model_name": "VBoxModel",
      "state": {
       "children": [
        "IPY_MODEL_95c450fdd07040bca9ffca3ff0b6e15d",
        "IPY_MODEL_aead8685834544fb84f773a271e820bb",
        "IPY_MODEL_4dcc10db5665412aa21040c24bdef0f4",
        "IPY_MODEL_1e7c47daba8d4ddb885c0fd801cc16ce",
        "IPY_MODEL_9636d259f2484001b24078297135c2ee",
        "IPY_MODEL_1793a1281ae54459b8ec5aa1ec48f919",
        "IPY_MODEL_4a1282eef210459dbca3add8573bdb00"
       ],
       "layout": "IPY_MODEL_a2c51013cfdf4336bfff0679bdbfdfd6"
      }
     },
     "23715690e210416c84d11e25c90a7bdd": {
      "model_module": "@jupyter-widgets/base",
      "model_module_version": "1.2.0",
      "model_name": "LayoutModel",
      "state": {
       "width": "150px"
      }
     },
     "245039b890a94ddeac989fc72e051525": {
      "model_module": "@jupyter-widgets/controls",
      "model_module_version": "1.5.0",
      "model_name": "ButtonStyleModel",
      "state": {}
     },
     "252c175173b244ac9b59ec8f55452232": {
      "model_module": "@jupyter-widgets/controls",
      "model_module_version": "1.5.0",
      "model_name": "ButtonStyleModel",
      "state": {}
     },
     "252c21a707c94ca585906d71a23f646c": {
      "model_module": "@jupyter-widgets/base",
      "model_module_version": "1.2.0",
      "model_name": "LayoutModel",
      "state": {}
     },
     "268c18e7e4fe4ed3a43681e91637e276": {
      "model_module": "@jupyter-widgets/base",
      "model_module_version": "1.2.0",
      "model_name": "LayoutModel",
      "state": {
       "display": "none",
       "width": "150px"
      }
     },
     "26b067562b764c9bbedbde8b2eea01b3": {
      "model_module": "@jupyter-widgets/controls",
      "model_module_version": "1.5.0",
      "model_name": "ButtonStyleModel",
      "state": {}
     },
     "272379cb9a4544f2829c8f37cce3679c": {
      "model_module": "@jupyter-widgets/controls",
      "model_module_version": "1.5.0",
      "model_name": "ButtonModel",
      "state": {
       "description": "reg edges",
       "layout": "IPY_MODEL_95e76693855d493cb626c75cd7c24162",
       "style": "IPY_MODEL_f403cc61a0194c2d9b7c97c3aedfbfb8"
      }
     },
     "276244e44a584090bdccacc6ad30f9c1": {
      "model_module": "@jupyter-widgets/base",
      "model_module_version": "1.2.0",
      "model_name": "DOMWidgetModel",
      "state": {
       "_model_name": "DOMWidgetModel",
       "_view_module": "SVGCanvas",
       "_view_module_version": "",
       "_view_name": "SVGCanvasView",
       "boundingBox": {},
       "command_pending": false,
       "layout": "IPY_MODEL_e841c9bf43524fdd829d3f509a84825a",
       "rendered": true,
       "svg_height": 238,
       "svg_style": "{}",
       "svg_width": 158,
       "unwatch_event": "",
       "viewBox": "-15 -15 158 238",
       "watch_event": ""
      }
     },
     "27b62289b47b4ba18e74d7d13741c44e": {
      "model_module": "@jupyter-widgets/base",
      "model_module_version": "1.2.0",
      "model_name": "LayoutModel",
      "state": {
       "width": "150px"
      }
     },
     "281fdda5cc0d417fa4906e0c84d2a977": {
      "model_module": "@jupyter-widgets/base",
      "model_module_version": "1.2.0",
      "model_name": "LayoutModel",
      "state": {
       "width": "150px"
      }
     },
     "28af89b5c7014c66a96f6d7ff8c647ab": {
      "model_module": "@jupyter-widgets/controls",
      "model_module_version": "1.5.0",
      "model_name": "ButtonModel",
      "state": {
       "description": "expand",
       "layout": "IPY_MODEL_604e569a7a044121ab91542a3dd94e67",
       "style": "IPY_MODEL_3cabdffd54bc47689b08ef7d77e42481"
      }
     },
     "28b5c7adaec1408685b66928f09a40d6": {
      "model_module": "@jupyter-widgets/base",
      "model_module_version": "1.2.0",
      "model_name": "LayoutModel",
      "state": {
       "width": "150px"
      }
     },
     "2a3a27aa9e024ca39fe07cbee468d289": {
      "model_module": "@jupyter-widgets/base",
      "model_module_version": "1.2.0",
      "model_name": "LayoutModel",
      "state": {
       "width": "150px"
      }
     },
     "2b9159fb5daf4399920a24b30be3c431": {
      "model_module": "@jupyter-widgets/controls",
      "model_module_version": "1.5.0",
      "model_name": "ButtonStyleModel",
      "state": {}
     },
     "2baa0005fd0a46bc9cf0cf870cb72768": {
      "model_module": "@jupyter-widgets/base",
      "model_module_version": "1.2.0",
      "model_name": "DOMWidgetModel",
      "state": {
       "_model_name": "DOMWidgetModel",
       "_view_module": "SVGCanvas",
       "_view_module_version": "",
       "_view_name": "SVGCanvasView",
       "boundingBox": {
        "height": 1659.7318115234375,
        "width": 1742.9697265625,
        "x": -430.0950927734375,
        "y": -329.7529602050781
       },
       "command_pending": false,
       "layout": "IPY_MODEL_09cf2d3ee97e4edc80314e711eecd018",
       "rendered": true,
       "svg_height": 500,
       "svg_style": "{\"background-color\": \"white\"}",
       "svg_width": 500,
       "unwatch_event": "",
       "viewBox": "-438 -337 1745 1745",
       "watch_event": ""
      }
     },
     "2c2df265b8e84fe99d3e10f830e82f93": {
      "model_module": "@jupyter-widgets/controls",
      "model_module_version": "1.5.0",
      "model_name": "HBoxModel",
      "state": {
       "children": [
        "IPY_MODEL_a5b3e9720180410c86b618a6f93ff97c",
        "IPY_MODEL_777c0c62e8ee445aa98fe566cd07363f",
        "IPY_MODEL_0ca2f9baca164840b0e615058ee967c3"
       ],
       "layout": "IPY_MODEL_fea401bd62e6403e92bf74589dc5ebce"
      }
     },
     "2cc2eee1822f457ea3f97e739de67b55": {
      "model_module": "@jupyter-widgets/controls",
      "model_module_version": "1.5.0",
      "model_name": "HBoxModel",
      "state": {
       "children": [
        "IPY_MODEL_562508dd8a8d4423bc63bdf6325d7ba7",
        "IPY_MODEL_f6088d41cc4b45cfb277cc61d2f6037c",
        "IPY_MODEL_f27b621a786b41e0a9a4213a65b88c9e"
       ],
       "layout": "IPY_MODEL_1a04694b55a64d36ace5d80e7af94478"
      }
     },
     "2d14c90d4f65400a8c1f43364a2a1f1d": {
      "model_module": "@jupyter-widgets/base",
      "model_module_version": "1.2.0",
      "model_name": "LayoutModel",
      "state": {}
     },
     "2deb0374406d48de868fa7014401101a": {
      "model_module": "@jupyter-widgets/controls",
      "model_module_version": "1.5.0",
      "model_name": "HBoxModel",
      "state": {
       "children": [
        "IPY_MODEL_4ae07c138d60420dba67d6ed893b23c8",
        "IPY_MODEL_e5cb8d232de141a2a9f4c2a476a7b85b"
       ],
       "layout": "IPY_MODEL_397546ab5e3a4683bcd8dbb0d1262c91"
      }
     },
     "2dfc5926ee31401da396687c8393901c": {
      "model_module": "@jupyter-widgets/base",
      "model_module_version": "1.2.0",
      "model_name": "LayoutModel",
      "state": {
       "width": "150px"
      }
     },
     "2fd1b50a910343f997bad986aa9df357": {
      "model_module": "@jupyter-widgets/controls",
      "model_module_version": "1.5.0",
      "model_name": "ButtonStyleModel",
      "state": {}
     },
     "30bd495400694b08ba0bf4165071ab6e": {
      "model_module": "@jupyter-widgets/base",
      "model_module_version": "1.2.0",
      "model_name": "LayoutModel",
      "state": {
       "width": "150px"
      }
     },
     "3119d3d670944968af96788f43165157": {
      "model_module": "@jupyter-widgets/controls",
      "model_module_version": "1.5.0",
      "model_name": "ButtonModel",
      "state": {
       "description": "restore",
       "layout": "IPY_MODEL_95f7915206e947e091cd57d6a87ff777",
       "style": "IPY_MODEL_81507057b4464cdc91d97a52c7ae7000"
      }
     },
     "31f58b7544644e11b9f8a243ba2b082c": {
      "model_module": "@jupyter-widgets/controls",
      "model_module_version": "1.5.0",
      "model_name": "HBoxModel",
      "state": {
       "children": [
        "IPY_MODEL_69663481f112410181b915b88a4d178f",
        "IPY_MODEL_330ea1d06b8e4c7d87ad63570e3b2b40"
       ],
       "layout": "IPY_MODEL_b57b36841c0241d5b99659b4368f1932"
      }
     },
     "320bd021ca904eeba36011d4cf1d990a": {
      "model_module": "@jupyter-widgets/base",
      "model_module_version": "1.2.0",
      "model_name": "DOMWidgetModel",
      "state": {
       "_model_name": "DOMWidgetModel",
       "_view_module": "JSProxy",
       "_view_module_version": "",
       "_view_name": "JSProxyView",
       "callback_results": [],
       "commands": [],
       "layout": "IPY_MODEL_680dd3c61e654a47829e9cc9b5a785c2",
       "results": []
      }
     },
     "330ea1d06b8e4c7d87ad63570e3b2b40": {
      "model_module": "@jupyter-widgets/controls",
      "model_module_version": "1.5.0",
      "model_name": "TextModel",
      "state": {
       "layout": "IPY_MODEL_9c2af0b827ae4052af9cae083bfb6208",
       "style": "IPY_MODEL_71ea61d1a5e8404fb66c3ce89c63b130",
       "value": "Mef2c Tcf4 Atf4 Satb1 Sox6 Lhx6"
      }
     },
     "33a8069757ca4615bc0f8c7c18c00e2d": {
      "model_module": "@jupyter-widgets/base",
      "model_module_version": "1.2.0",
      "model_name": "DOMWidgetModel",
      "state": {
       "_model_name": "DOMWidgetModel",
       "_view_module": "SVGCanvas",
       "_view_module_version": "",
       "_view_name": "SVGCanvasView",
       "boundingBox": {},
       "command_pending": false,
       "layout": "IPY_MODEL_e37e0420ba5e4398935bb1ea2db94479",
       "rendered": true,
       "svg_height": 160,
       "svg_style": "{}",
       "svg_width": 128,
       "unwatch_event": "",
       "viewBox": "0 0 128.0 160.0",
       "watch_event": ""
      }
     },
     "33bef2d03eba492babd88be713e3e6fa": {
      "model_module": "@jupyter-widgets/base",
      "model_module_version": "1.2.0",
      "model_name": "LayoutModel",
      "state": {
       "width": "200px"
      }
     },
     "33c688c9201f4004af17eca59c7eedde": {
      "model_module": "@jupyter-widgets/controls",
      "model_module_version": "1.5.0",
      "model_name": "IntSliderModel",
      "state": {
       "description": "tf labels",
       "layout": "IPY_MODEL_d415c7cf83494feb8b24f1c7abcdb187",
       "max": 40,
       "min": 5,
       "style": "IPY_MODEL_3ed6381d93a14883a0e31ecf0ffe3223",
       "value": 7
      }
     },
     "34327eb6edec4f7e97ac95846a4fc6c0": {
      "model_module": "@jupyter-widgets/controls",
      "model_module_version": "1.5.0",
      "model_name": "ButtonModel",
      "state": {
       "description": "reset default",
       "layout": "IPY_MODEL_8d111c8f069d4a009db3f00af77184ed",
       "style": "IPY_MODEL_3552dcc5239442e593a320888a5a1fcb"
      }
     },
     "34568081510c4308aac8655b3b6826bc": {
      "model_module": "@jupyter-widgets/controls",
      "model_module_version": "1.5.0",
      "model_name": "DescriptionStyleModel",
      "state": {
       "description_width": ""
      }
     },
     "34b6f8ff898041d2b9179a24a318959a": {
      "model_module": "@jupyter-widgets/controls",
      "model_module_version": "1.5.0",
      "model_name": "SliderStyleModel",
      "state": {
       "description_width": ""
      }
     },
     "3552dcc5239442e593a320888a5a1fcb": {
      "model_module": "@jupyter-widgets/controls",
      "model_module_version": "1.5.0",
      "model_name": "ButtonStyleModel",
      "state": {}
     },
     "36cf018489124a32bcd863021f1f1d4f": {
      "model_module": "@jupyter-widgets/controls",
      "model_module_version": "1.5.0",
      "model_name": "DropdownModel",
      "state": {
       "_options_labels": [
        "SVG",
        "canvas"
       ],
       "index": 1,
       "layout": "IPY_MODEL_cbbd7013840a4857a1c6bbdde2e5374f",
       "style": "IPY_MODEL_7460a023b7bc4080b8c5c36659467194"
      }
     },
     "37156a75e72047a8b023b942b561143a": {
      "model_module": "@jupyter-widgets/base",
      "model_module_version": "1.2.0",
      "model_name": "LayoutModel",
      "state": {
       "width": "200px"
      }
     },
     "37ffd04cc26c43ab8527f88e44f9f887": {
      "model_module": "@jupyter-widgets/controls",
      "model_module_version": "1.5.0",
      "model_name": "ButtonStyleModel",
      "state": {}
     },
     "381bf93c7a7042a1b9a5a066bff2d6a0": {
      "model_module": "@jupyter-widgets/controls",
      "model_module_version": "1.5.0",
      "model_name": "DescriptionStyleModel",
      "state": {
       "description_width": ""
      }
     },
     "38e03b842e044719b51460add38b593e": {
      "model_module": "@jupyter-widgets/controls",
      "model_module_version": "1.5.0",
      "model_name": "ButtonModel",
      "state": {
       "description": "load",
       "layout": "IPY_MODEL_67e714055db84f03a696af2a29dcec82",
       "style": "IPY_MODEL_bcd68db71b4a47ff84c3f48b956f2c3c"
      }
     },
     "39071ab7ec074031bcf4748e852b5c33": {
      "model_module": "@jupyter-widgets/base",
      "model_module_version": "1.2.0",
      "model_name": "LayoutModel",
      "state": {
       "width": "150px"
      }
     },
     "3946f78f191f426080eb6d3d48b94a37": {
      "model_module": "@jupyter-widgets/controls",
      "model_module_version": "1.5.0",
      "model_name": "ButtonStyleModel",
      "state": {}
     },
     "397546ab5e3a4683bcd8dbb0d1262c91": {
      "model_module": "@jupyter-widgets/base",
      "model_module_version": "1.2.0",
      "model_name": "LayoutModel",
      "state": {}
     },
     "3a026bc65cb84a49b2fefb492d6a246f": {
      "model_module": "@jupyter-widgets/controls",
      "model_module_version": "1.5.0",
      "model_name": "VBoxModel",
      "state": {
       "children": [
        "IPY_MODEL_58e5d25adadf4354a5d640006dd426a3",
        "IPY_MODEL_66cf36dee92d4f8580b898118940428a",
        "IPY_MODEL_5c75d05f542645ea911435b9bea4af36"
       ],
       "layout": "IPY_MODEL_a1bc33c85d4c400abdf3a098ff9b2fcb"
      }
     },
     "3a87849960ce4da7a951b2098aaf533f": {
      "model_module": "@jupyter-widgets/controls",
      "model_module_version": "1.5.0",
      "model_name": "TextModel",
      "state": {
       "layout": "IPY_MODEL_8e0b7914a8f14b19a9113130f1993537",
       "style": "IPY_MODEL_d8364b829bb645e1954d80e5d155f191"
      }
     },
     "3bbdc1cd2397487fa1178e34863b4535": {
      "model_module": "@jupyter-widgets/base",
      "model_module_version": "1.2.0",
      "model_name": "LayoutModel",
      "state": {}
     },
     "3bcfe0883746452494cc3b7a9843c11b": {
      "model_module": "@jupyter-widgets/controls",
      "model_module_version": "1.5.0",
      "model_name": "VBoxModel",
      "state": {
       "children": [
        "IPY_MODEL_9875349e4ce44eaa936fea0a43a90a57",
        "IPY_MODEL_2baa0005fd0a46bc9cf0cf870cb72768",
        "IPY_MODEL_bd6b262c6405479dadfdbb02b5f77306",
        "IPY_MODEL_8ea1579c54e742cfbfb5741c13b149a5"
       ],
       "layout": "IPY_MODEL_9c490e6cab814b57b6db4ecd828ff482"
      }
     },
     "3be63e9964024d50ad3f4e4efeae3be4": {
      "model_module": "@jupyter-widgets/controls",
      "model_module_version": "1.5.0",
      "model_name": "TextModel",
      "state": {
       "layout": "IPY_MODEL_062088da2f7c447bba61c08e82bd8464",
       "style": "IPY_MODEL_8718f1afbfbe42ea89d60f380a0c9642"
      }
     },
     "3cabdffd54bc47689b08ef7d77e42481": {
      "model_module": "@jupyter-widgets/controls",
      "model_module_version": "1.5.0",
      "model_name": "ButtonStyleModel",
      "state": {}
     },
     "3df3e5a381254541bf1d28e9f3377d90": {
      "model_module": "@jupyter-widgets/controls",
      "model_module_version": "1.5.0",
      "model_name": "IntSliderModel",
      "state": {
       "description": "side",
       "layout": "IPY_MODEL_252c21a707c94ca585906d71a23f646c",
       "max": 4000,
       "min": 500,
       "style": "IPY_MODEL_b24b305b846e4847aa5a7e61ae4e0f7e",
       "value": 1000
      }
     },
     "3e478aad0ee8400695d0cbbd637b061f": {
      "model_module": "@jupyter-widgets/base",
      "model_module_version": "1.2.0",
      "model_name": "DOMWidgetModel",
      "state": {
       "_model_name": "DOMWidgetModel",
       "_view_module": "JSProxy",
       "_view_module_version": "",
       "_view_name": "JSProxyView",
       "callback_results": [],
       "commands": [],
       "layout": "IPY_MODEL_99be63390be4478eab5516630c977d97",
       "results": [
        46,
        [
         null
        ]
       ]
      }
     },
     "3e51d817fd9641969d64e709125e668c": {
      "model_module": "@jupyter-widgets/base",
      "model_module_version": "1.2.0",
      "model_name": "LayoutModel",
      "state": {
       "width": "150px"
      }
     },
     "3e6f797efddc47ea92781ed6cc7563c0": {
      "model_module": "@jupyter-widgets/controls",
      "model_module_version": "1.5.0",
      "model_name": "VBoxModel",
      "state": {
       "children": [
        "IPY_MODEL_6c03b48d437f45d0a9759abcb55016a7",
        "IPY_MODEL_c6a32cf3c6b048b285522f94ff0e0e99",
        "IPY_MODEL_f7f1739d44f54c1cb47184c2ff739553",
        "IPY_MODEL_2135ff83bc924a67b715286385948467"
       ],
       "layout": "IPY_MODEL_18c86c8696d04248874826a27d9c106e"
      }
     },
     "3e85a34a8f59414a9bf119cbbb70a4ca": {
      "model_module": "@jupyter-widgets/controls",
      "model_module_version": "1.5.0",
      "model_name": "DescriptionStyleModel",
      "state": {
       "description_width": ""
      }
     },
     "3ed6381d93a14883a0e31ecf0ffe3223": {
      "model_module": "@jupyter-widgets/controls",
      "model_module_version": "1.5.0",
      "model_name": "SliderStyleModel",
      "state": {
       "description_width": ""
      }
     },
     "3f13129471e141838afad8c3de991518": {
      "model_module": "@jupyter-widgets/base",
      "model_module_version": "1.2.0",
      "model_name": "LayoutModel",
      "state": {}
     },
     "3f2510c44ae2416a8dfbdda504885c67": {
      "model_module": "@jupyter-widgets/controls",
      "model_module_version": "1.5.0",
      "model_name": "DescriptionStyleModel",
      "state": {
       "description_width": ""
      }
     },
     "3f810f4d0e2b48b5bb6e16325fa99466": {
      "model_module": "@jupyter-widgets/controls",
      "model_module_version": "1.5.0",
      "model_name": "ButtonModel",
      "state": {
       "description": "expand",
       "layout": "IPY_MODEL_a4c7810267344edc8364c32843e815ed",
       "style": "IPY_MODEL_ad31f34be80f4f308bbe10baba88b76a"
      }
     },
     "3fed8c21f3d9411cb60b30f3938b0d0f": {
      "model_module": "@jupyter-widgets/controls",
      "model_module_version": "1.5.0",
      "model_name": "ButtonStyleModel",
      "state": {}
     },
     "410c98e2af0b42699939a4e084715e65": {
      "model_module": "@jupyter-widgets/base",
      "model_module_version": "1.2.0",
      "model_name": "LayoutModel",
      "state": {}
     },
     "41145fa380dc4e039f1d5fe3d66b3985": {
      "model_module": "@jupyter-widgets/base",
      "model_module_version": "1.2.0",
      "model_name": "LayoutModel",
      "state": {}
     },
     "42d75bbbd926441185cdec0de4dbe77c": {
      "model_module": "@jupyter-widgets/base",
      "model_module_version": "1.2.0",
      "model_name": "LayoutModel",
      "state": {}
     },
     "430d68d1bb534da7ac36bae6c1a64809": {
      "model_module": "@jupyter-widgets/controls",
      "model_module_version": "1.5.0",
      "model_name": "ButtonModel",
      "state": {
       "description": "focus",
       "layout": "IPY_MODEL_bb6b1e3df67f425c866bc60633be05b2",
       "style": "IPY_MODEL_162fafdb62934686b8f2d36f9ca40d09"
      }
     },
     "43538be34090445e9f1bf3a26bf05cee": {
      "model_module": "@jupyter-widgets/controls",
      "model_module_version": "1.5.0",
      "model_name": "ButtonModel",
      "state": {
       "description": "targeted by",
       "layout": "IPY_MODEL_281fdda5cc0d417fa4906e0c84d2a977",
       "style": "IPY_MODEL_7cdf171ac36e414380745cf550ab899a"
      }
     },
     "44b117b9ce71428391570dfb33c204b1": {
      "model_module": "@jupyter-widgets/base",
      "model_module_version": "1.2.0",
      "model_name": "LayoutModel",
      "state": {}
     },
     "453daa9ccaf34761ba1c0180169af298": {
      "model_module": "@jupyter-widgets/base",
      "model_module_version": "1.2.0",
      "model_name": "LayoutModel",
      "state": {}
     },
     "466bad8d615849a2b51fd13d4b7f653b": {
      "model_module": "@jupyter-widgets/controls",
      "model_module_version": "1.5.0",
      "model_name": "VBoxModel",
      "state": {
       "children": [
        "IPY_MODEL_b6ab4116d6e54e98bc805e6b4200e5e7",
        "IPY_MODEL_8a8c59ed90b2447790289cacbf05fbf4",
        "IPY_MODEL_691ac1ca454d47fcb527d37cf0819b7b",
        "IPY_MODEL_00eb14154327412586b38342a39c8c1d",
        "IPY_MODEL_2cc2eee1822f457ea3f97e739de67b55",
        "IPY_MODEL_2deb0374406d48de868fa7014401101a",
        "IPY_MODEL_f32baf8161fd48e8a0c2dc4ab6457670"
       ],
       "layout": "IPY_MODEL_74d238917e7e4b71a5b714776d72734a"
      }
     },
     "46d6d52fa87e4d7484b33f33feba1fc7": {
      "model_module": "@jupyter-widgets/base",
      "model_module_version": "1.2.0",
      "model_name": "LayoutModel",
      "state": {
       "width": "150px"
      }
     },
     "46e19aa4d1994bb9a305ddfd35698330": {
      "model_module": "@jupyter-widgets/controls",
      "model_module_version": "1.5.0",
      "model_name": "IntSliderModel",
      "state": {
       "layout": "IPY_MODEL_daa2c9b9c30f4f4aa02449c88e511394",
       "max": 2000,
       "min": 100,
       "readout": false,
       "step": 10,
       "style": "IPY_MODEL_c588918d5c294e0c9dc285b79f889543",
       "value": 500
      }
     },
     "490eea1ee12248eead5e436dba3a4d02": {
      "model_module": "@jupyter-widgets/base",
      "model_module_version": "1.2.0",
      "model_name": "LayoutModel",
      "state": {}
     },
     "4a1282eef210459dbca3add8573bdb00": {
      "model_module": "@jupyter-widgets/controls",
      "model_module_version": "1.5.0",
      "model_name": "HBoxModel",
      "state": {
       "children": [
        "IPY_MODEL_dfebbaa84dea4a0fb99c8a6d85e6b6dc",
        "IPY_MODEL_3df3e5a381254541bf1d28e9f3377d90",
        "IPY_MODEL_db307b7dcd5347fc8c742a9447793876"
       ],
       "layout": "IPY_MODEL_453daa9ccaf34761ba1c0180169af298"
      }
     },
     "4a41fe01135c43b0a7e5533c20f52d05": {
      "model_module": "@jupyter-widgets/controls",
      "model_module_version": "1.5.0",
      "model_name": "CheckboxModel",
      "state": {
       "description": "show preview",
       "disabled": false,
       "layout": "IPY_MODEL_ad277ca8dbb9461bb2914d9e405272f3",
       "style": "IPY_MODEL_84e8979194df4a25a493a4332a533410",
       "value": false
      }
     },
     "4ae07c138d60420dba67d6ed893b23c8": {
      "model_module": "@jupyter-widgets/controls",
      "model_module_version": "1.5.0",
      "model_name": "TextModel",
      "state": {
       "description": "Snapshot filename:",
       "layout": "IPY_MODEL_42d75bbbd926441185cdec0de4dbe77c",
       "style": "IPY_MODEL_af7846eae21e4bf49c4996f0a955df5f",
       "value": "Gene network"
      }
     },
     "4b4999f6991d444e994bd06f72c69c89": {
      "model_module": "@jupyter-widgets/base",
      "model_module_version": "1.2.0",
      "model_name": "LayoutModel",
      "state": {
       "display": "none"
      }
     },
     "4b665bef86014da58f2e5cadc583f39f": {
      "model_module": "@jupyter-widgets/base",
      "model_module_version": "1.2.0",
      "model_name": "LayoutModel",
      "state": {
       "width": "200px"
      }
     },
     "4c2e6646aa9146fc8c86dcdef9ee8d12": {
      "model_module": "@jupyter-widgets/base",
      "model_module_version": "1.2.0",
      "model_name": "LayoutModel",
      "state": {
       "width": "150px"
      }
     },
     "4c465197070f4773a540d5b1837d5ba2": {
      "model_module": "@jupyter-widgets/base",
      "model_module_version": "1.2.0",
      "model_name": "LayoutModel",
      "state": {}
     },
     "4d6169a45ab24ecf80d138d489c317eb": {
      "model_module": "@jupyter-widgets/controls",
      "model_module_version": "1.5.0",
      "model_name": "ButtonStyleModel",
      "state": {}
     },
     "4dcc10db5665412aa21040c24bdef0f4": {
      "model_module": "@jupyter-widgets/controls",
      "model_module_version": "1.5.0",
      "model_name": "TextModel",
      "state": {
       "description": "cluster boundary color",
       "layout": "IPY_MODEL_71984dd94a7045d1891da0d7b571fdec",
       "style": "IPY_MODEL_c77ebf05cdbb4b2b9679d01be08e1c96",
       "value": "#edefef"
      }
     },
     "4f84e687af714493967618c30fb42fad": {
      "model_module": "@jupyter-widgets/controls",
      "model_module_version": "1.5.0",
      "model_name": "DescriptionStyleModel",
      "state": {
       "description_width": ""
      }
     },
     "5092238fbde34d1ebf4bcfb0cd51024b": {
      "model_module": "@jupyter-widgets/base",
      "model_module_version": "1.2.0",
      "model_name": "LayoutModel",
      "state": {}
     },
     "51c1ae3884924144b81284d4dbaaaa1c": {
      "model_module": "@jupyter-widgets/controls",
      "model_module_version": "1.5.0",
      "model_name": "VBoxModel",
      "state": {
       "children": [
        "IPY_MODEL_1761af05a30f4cd3b04590d115d2cd20",
        "IPY_MODEL_7289c51de03e4269a57b27616ea4293c",
        "IPY_MODEL_ab35dbf290634c6f880ffa23b676aa3b",
        "IPY_MODEL_8fc2ba883e6d486facde6c1bd73bb84d",
        "IPY_MODEL_c8f92d2210a848fe9bfe88a5a31a3126",
        "IPY_MODEL_d16223b71cee4a4987927b26445c605a",
        "IPY_MODEL_28af89b5c7014c66a96f6d7ff8c647ab",
        "IPY_MODEL_7a29668083a04dab963af418030422cb",
        "IPY_MODEL_272379cb9a4544f2829c8f37cce3679c",
        "IPY_MODEL_43538be34090445e9f1bf3a26bf05cee",
        "IPY_MODEL_5d7e7aac837642a2aeda0ecd40719d82",
        "IPY_MODEL_e0c9a5fdea784ed39b7d03a1ee66762a",
        "IPY_MODEL_56f2f08892d94f28b3175c3e7d28181b",
        "IPY_MODEL_5d325e880e4042049f74d8368a1491dd",
        "IPY_MODEL_758e6cd2de9a4cef99df95b5f2d0d637",
        "IPY_MODEL_db62648999af4952a17b36f8ac7f60b9",
        "IPY_MODEL_5bdab783a91447a2b752bd20ffe1f635",
        "IPY_MODEL_60463bb4f5024961a7e5010fa0ec8c10",
        "IPY_MODEL_9fd04567336b4c228f8b82159f4cd12e",
        "IPY_MODEL_1e0754e2ac7943fa8060b28f9696ec65",
        "IPY_MODEL_99511f63cbab4dd99424c4cf092b177e",
        "IPY_MODEL_dd5d4b7e3a1c46b8b284e4449a1f4896",
        "IPY_MODEL_e13f994f84f74f8bb7f837523bb46207",
        "IPY_MODEL_1e91e973d8ed4fa886289c714e65a108",
        "IPY_MODEL_0096d252fa9143f8a85adfab200559bc"
       ],
       "layout": "IPY_MODEL_562797804376464b82757f7425b1be49"
      }
     },
     "520f089c2c5d4aae97c15beadd902cc1": {
      "model_module": "@jupyter-widgets/base",
      "model_module_version": "1.2.0",
      "model_name": "LayoutModel",
      "state": {
       "width": "50px"
      }
     },
     "522a9b73dd8247179c55414928301454": {
      "model_module": "@jupyter-widgets/base",
      "model_module_version": "1.2.0",
      "model_name": "DOMWidgetModel",
      "state": {
       "_model_name": "DOMWidgetModel",
       "_view_module": "SVGCanvas",
       "_view_module_version": "",
       "_view_name": "SVGCanvasView",
       "boundingBox": {},
       "command_pending": false,
       "layout": "IPY_MODEL_92d253809ce24274a48a371a8bbadb86",
       "rendered": true,
       "svg_height": 238,
       "svg_style": "{}",
       "svg_width": 158,
       "unwatch_event": "",
       "viewBox": "-15 -15 158 238",
       "watch_event": ""
      }
     },
     "52e79d6be1664cf8b6ff84fe723b7fc7": {
      "model_module": "@jupyter-widgets/base",
      "model_module_version": "1.2.0",
      "model_name": "LayoutModel",
      "state": {
       "width": "150px"
      }
     },
     "54cf2484498f43d9b5ae5b3056f8fbee": {
      "model_module": "@jupyter-widgets/controls",
      "model_module_version": "1.5.0",
      "model_name": "ButtonStyleModel",
      "state": {}
     },
     "5527befad91e45db93fcf4fc1178a83f": {
      "model_module": "@jupyter-widgets/controls",
      "model_module_version": "1.5.0",
      "model_name": "ButtonModel",
      "state": {
       "description": "save/load file name",
       "layout": "IPY_MODEL_52e79d6be1664cf8b6ff84fe723b7fc7",
       "style": "IPY_MODEL_54cf2484498f43d9b5ae5b3056f8fbee"
      }
     },
     "55541e1580ed43c2b0ef316855cc9595": {
      "model_module": "@jupyter-widgets/base",
      "model_module_version": "1.2.0",
      "model_name": "LayoutModel",
      "state": {
       "width": "200px"
      }
     },
     "562508dd8a8d4423bc63bdf6325d7ba7": {
      "model_module": "@jupyter-widgets/controls",
      "model_module_version": "1.5.0",
      "model_name": "ButtonModel",
      "state": {
       "description": "save",
       "layout": "IPY_MODEL_c59670ae1aec4900bd9ffefb851ade49",
       "style": "IPY_MODEL_7947a515dbf646db8bcd86b31945f9a6"
      }
     },
     "562797804376464b82757f7425b1be49": {
      "model_module": "@jupyter-widgets/base",
      "model_module_version": "1.2.0",
      "model_name": "LayoutModel",
      "state": {}
     },
     "56f2f08892d94f28b3175c3e7d28181b": {
      "model_module": "@jupyter-widgets/controls",
      "model_module_version": "1.5.0",
      "model_name": "ButtonModel",
      "state": {
       "description": "split",
       "layout": "IPY_MODEL_bac93a61001546b5a1595b64a2f699f2",
       "style": "IPY_MODEL_3fed8c21f3d9411cb60b30f3938b0d0f"
      }
     },
     "579013ccd0454d1ab18bf124842306cc": {
      "model_module": "@jupyter-widgets/base",
      "model_module_version": "1.2.0",
      "model_name": "LayoutModel",
      "state": {}
     },
     "58e5d25adadf4354a5d640006dd426a3": {
      "model_module": "@jupyter-widgets/controls",
      "model_module_version": "1.5.0",
      "model_name": "CheckboxModel",
      "state": {
       "description": "manual colorize",
       "disabled": false,
       "layout": "IPY_MODEL_90894cf169474fe1afb3153d97324f91",
       "style": "IPY_MODEL_1d4b06922d924135bb02aa17b88f22a6",
       "value": false
      }
     },
     "59c67f43417945faadc57f34b29092d0": {
      "model_module": "@jupyter-widgets/controls",
      "model_module_version": "1.5.0",
      "model_name": "DropdownModel",
      "state": {
       "_options_labels": [
        "PNG",
        "TIFF"
       ],
       "index": 0,
       "layout": "IPY_MODEL_d45f8e5f358942009cc89fd237474205",
       "style": "IPY_MODEL_fb12a78834f042b78e28ab1a590ed0de"
      }
     },
     "59e6bb9b44904ec2b4151fe299dc9f86": {
      "model_module": "@jupyter-widgets/base",
      "model_module_version": "1.2.0",
      "model_name": "LayoutModel",
      "state": {
       "width": "150px"
      }
     },
     "5a73208890374b7a9c82a00db2199317": {
      "model_module": "@jupyter-widgets/controls",
      "model_module_version": "1.5.0",
      "model_name": "DescriptionStyleModel",
      "state": {
       "description_width": ""
      }
     },
     "5bdab783a91447a2b752bd20ffe1f635": {
      "model_module": "@jupyter-widgets/controls",
      "model_module_version": "1.5.0",
      "model_name": "ButtonModel",
      "state": {
       "description": "list nodes",
       "layout": "IPY_MODEL_6e4f526ece0441a5a8c75e088cf40c2a",
       "style": "IPY_MODEL_688f967d0aaf48eb92e3445eb0f0b4b5"
      }
     },
     "5bf6d4ae4a2a4d8eaed1e47be1d42af1": {
      "model_module": "@jupyter-widgets/base",
      "model_module_version": "1.2.0",
      "model_name": "LayoutModel",
      "state": {}
     },
     "5c75d05f542645ea911435b9bea4af36": {
      "model_module": "@jupyter-widgets/controls",
      "model_module_version": "1.5.0",
      "model_name": "ButtonModel",
      "state": {
       "description": "reset default",
       "layout": "IPY_MODEL_fb9aa0ef0ee24347ac6aa8ba62fe7505",
       "style": "IPY_MODEL_6a1e64295bc94696b6b69920a840cb69"
      }
     },
     "5cf18945172f4c88be59b8dc674e6c3c": {
      "model_module": "@jupyter-widgets/base",
      "model_module_version": "1.2.0",
      "model_name": "LayoutModel",
      "state": {}
     },
     "5d238faf1b0844b69bce065e31af5e85": {
      "model_module": "@jupyter-widgets/controls",
      "model_module_version": "1.5.0",
      "model_name": "TextModel",
      "state": {
       "description": "Snapshot filename:",
       "layout": "IPY_MODEL_f93731c776c34cd7a56a5d41131ed00e",
       "style": "IPY_MODEL_34568081510c4308aac8655b3b6826bc",
       "value": "Gene network"
      }
     },
     "5d325e880e4042049f74d8368a1491dd": {
      "model_module": "@jupyter-widgets/controls",
      "model_module_version": "1.5.0",
      "model_name": "ButtonModel",
      "state": {
       "description": "connected only",
       "layout": "IPY_MODEL_8968a8d160924ae79490665018539cd1",
       "style": "IPY_MODEL_37ffd04cc26c43ab8527f88e44f9f887"
      }
     },
     "5d7e7aac837642a2aeda0ecd40719d82": {
      "model_module": "@jupyter-widgets/controls",
      "model_module_version": "1.5.0",
      "model_name": "ButtonModel",
      "state": {
       "description": "target edges",
       "layout": "IPY_MODEL_afee404f7cef493cacfe94f2102578f8",
       "style": "IPY_MODEL_e0964d9c5b7a4cc79a056af052dc6145"
      }
     },
     "5e37872b9d43460aab61443e5b7f65cc": {
      "model_module": "@jupyter-widgets/controls",
      "model_module_version": "1.5.0",
      "model_name": "TextModel",
      "state": {
       "layout": "IPY_MODEL_60c1b227f7fa439bb5738d93130400a3",
       "style": "IPY_MODEL_3f2510c44ae2416a8dfbdda504885c67",
       "value": "Mef2c Tcf4 Atf4 Satb1 Sox6 Lhx6"
      }
     },
     "60463bb4f5024961a7e5010fa0ec8c10": {
      "model_module": "@jupyter-widgets/controls",
      "model_module_version": "1.5.0",
      "model_name": "ButtonModel",
      "state": {
       "description": "list edges",
       "layout": "IPY_MODEL_c4c2a410c3d7400db2869c8685d61342",
       "style": "IPY_MODEL_9b3ac950322f40a58717531ccc5bb97e"
      }
     },
     "604e569a7a044121ab91542a3dd94e67": {
      "model_module": "@jupyter-widgets/base",
      "model_module_version": "1.2.0",
      "model_name": "LayoutModel",
      "state": {
       "width": "150px"
      }
     },
     "60bfa8e46b434b2aac20838757dba05c": {
      "model_module": "@jupyter-widgets/controls",
      "model_module_version": "1.5.0",
      "model_name": "DropdownModel",
      "state": {
       "_options_labels": [
        "+- all",
        "- only",
        "+ only"
       ],
       "index": 0,
       "layout": "IPY_MODEL_520f089c2c5d4aae97c15beadd902cc1",
       "style": "IPY_MODEL_c91392686af04d38ad85b65611d42c13"
      }
     },
     "60c1b227f7fa439bb5738d93130400a3": {
      "model_module": "@jupyter-widgets/base",
      "model_module_version": "1.2.0",
      "model_name": "LayoutModel",
      "state": {}
     },
     "6138612a3dd3413ebc4a205cdad338a8": {
      "model_module": "@jupyter-widgets/controls",
      "model_module_version": "1.5.0",
      "model_name": "CheckboxModel",
      "state": {
       "description": "manual colorize",
       "disabled": false,
       "layout": "IPY_MODEL_8eaf7ed675fe4263a23e42ab9a0e34e7",
       "style": "IPY_MODEL_eb5cd39c3d5d47249b68f7bed9e2f57d",
       "value": false
      }
     },
     "64ab7942f1564525b49c81c8ac8babd9": {
      "model_module": "@jupyter-widgets/base",
      "model_module_version": "1.2.0",
      "model_name": "LayoutModel",
      "state": {}
     },
     "66cf36dee92d4f8580b898118940428a": {
      "model_module": "@jupyter-widgets/base",
      "model_module_version": "1.2.0",
      "model_name": "DOMWidgetModel",
      "state": {
       "_model_name": "DOMWidgetModel",
       "_view_module": "SVGCanvas",
       "_view_module_version": "",
       "_view_name": "SVGCanvasView",
       "boundingBox": {},
       "command_pending": false,
       "layout": "IPY_MODEL_a4638ca4a0734930982d11b418bc253a",
       "rendered": true,
       "svg_height": 160,
       "svg_style": "{}",
       "svg_width": 128,
       "unwatch_event": "",
       "viewBox": "0 0 128.0 160.0",
       "watch_event": ""
      }
     },
     "67e714055db84f03a696af2a29dcec82": {
      "model_module": "@jupyter-widgets/base",
      "model_module_version": "1.2.0",
      "model_name": "LayoutModel",
      "state": {
       "width": "150px"
      }
     },
     "680dd3c61e654a47829e9cc9b5a785c2": {
      "model_module": "@jupyter-widgets/base",
      "model_module_version": "1.2.0",
      "model_name": "LayoutModel",
      "state": {}
     },
     "688f967d0aaf48eb92e3445eb0f0b4b5": {
      "model_module": "@jupyter-widgets/controls",
      "model_module_version": "1.5.0",
      "model_name": "ButtonStyleModel",
      "state": {}
     },
     "691ac1ca454d47fcb527d37cf0819b7b": {
      "model_module": "@jupyter-widgets/controls",
      "model_module_version": "1.5.0",
      "model_name": "TextModel",
      "state": {
       "description": "cluster boundary color",
       "layout": "IPY_MODEL_5cf18945172f4c88be59b8dc674e6c3c",
       "style": "IPY_MODEL_8938e5002f05481cb124c60ba42dac81",
       "value": "#edefef"
      }
     },
     "69663481f112410181b915b88a4d178f": {
      "model_module": "@jupyter-widgets/controls",
      "model_module_version": "1.5.0",
      "model_name": "ButtonModel",
      "state": {
       "description": "match",
       "layout": "IPY_MODEL_0e5e5bbb1d3f4cc3a762742addde263f",
       "style": "IPY_MODEL_f32b9b3ab46c45ad8488fbc01e977866"
      }
     },
     "699644a2cc414098808bd2f5b91a2ab1": {
      "model_module": "@jupyter-widgets/controls",
      "model_module_version": "1.5.0",
      "model_name": "SliderStyleModel",
      "state": {
       "description_width": ""
      }
     },
     "69dd8853df7e4df7a5b62c76ef9d9c98": {
      "model_module": "@jupyter-widgets/controls",
      "model_module_version": "1.5.0",
      "model_name": "ButtonModel",
      "state": {
       "description": "target edges",
       "layout": "IPY_MODEL_84eb3ece0cf7419b8fdb95012527643b",
       "style": "IPY_MODEL_a0e3f1c5a3cf4c049328ee7125180a8b"
      }
     },
     "6a1e64295bc94696b6b69920a840cb69": {
      "model_module": "@jupyter-widgets/controls",
      "model_module_version": "1.5.0",
      "model_name": "ButtonStyleModel",
      "state": {}
     },
     "6af4a6e742f54c679307d0cac5675753": {
      "model_module": "@jupyter-widgets/controls",
      "model_module_version": "1.5.0",
      "model_name": "ButtonStyleModel",
      "state": {}
     },
     "6b809db7d7064dfbb7a36bfa3c7d709d": {
      "model_module": "@jupyter-widgets/base",
      "model_module_version": "1.2.0",
      "model_name": "DOMWidgetModel",
      "state": {
       "_model_name": "DOMWidgetModel",
       "_view_module": "JSProxy",
       "_view_module_version": "",
       "_view_name": "JSProxyView",
       "callback_results": [],
       "commands": [],
       "layout": "IPY_MODEL_cb6663c8a3144f7582c9afa93f404a50",
       "results": [
        16,
        [
         {
          "jquery": "3.4.1",
          "length": 1
         },
         {
          "jquery": "3.4.1",
          "length": 1
         }
        ]
       ]
      }
     },
     "6bc4259b047a4939b6a6a226284642d2": {
      "model_module": "@jupyter-widgets/base",
      "model_module_version": "1.2.0",
      "model_name": "DOMWidgetModel",
      "state": {
       "_model_name": "DOMWidgetModel",
       "_view_module": "JSProxy",
       "_view_module_version": "",
       "_view_name": "JSProxyView",
       "callback_results": [],
       "commands": [],
       "layout": "IPY_MODEL_09c43f849a67441e9e7c204d7a1aaeae",
       "results": [
        146,
        [
         null
        ]
       ]
      }
     },
     "6c03b48d437f45d0a9759abcb55016a7": {
      "model_module": "@jupyter-widgets/controls",
      "model_module_version": "1.5.0",
      "model_name": "HBoxModel",
      "state": {
       "children": [
        "IPY_MODEL_d44b0103dcc34761835736bf7d7a691d",
        "IPY_MODEL_7911050c735f41cfa9824e3becec116c",
        "IPY_MODEL_60bfa8e46b434b2aac20838757dba05c"
       ],
       "layout": "IPY_MODEL_c195ad2116a44c3e962aba79f1ed27fc"
      }
     },
     "6e21d971ad094c55b77da27d4f5e880c": {
      "model_module": "@jupyter-widgets/controls",
      "model_module_version": "1.5.0",
      "model_name": "ButtonStyleModel",
      "state": {}
     },
     "6e4f526ece0441a5a8c75e088cf40c2a": {
      "model_module": "@jupyter-widgets/base",
      "model_module_version": "1.2.0",
      "model_name": "LayoutModel",
      "state": {
       "width": "150px"
      }
     },
     "706102d53ac846de941a30043052fff6": {
      "model_module": "@jupyter-widgets/controls",
      "model_module_version": "1.5.0",
      "model_name": "HTMLModel",
      "state": {
       "layout": "IPY_MODEL_5092238fbde34d1ebf4bcfb0cd51024b",
       "style": "IPY_MODEL_d848fbbed6994e89910067c6d58612ca",
       "value": "E18 Lhx6"
      }
     },
     "717198943d7f405284ab713893495265": {
      "model_module": "@jupyter-widgets/base",
      "model_module_version": "1.2.0",
      "model_name": "LayoutModel",
      "state": {
       "display": "none"
      }
     },
     "717e8f3533c5454aa4c267c02ce339c5": {
      "model_module": "@jupyter-widgets/controls",
      "model_module_version": "1.5.0",
      "model_name": "HBoxModel",
      "state": {
       "children": [
        "IPY_MODEL_51c1ae3884924144b81284d4dbaaaa1c",
        "IPY_MODEL_3bcfe0883746452494cc3b7a9843c11b",
        "IPY_MODEL_6bc4259b047a4939b6a6a226284642d2",
        "IPY_MODEL_10e88028becc406ebefcad5b9331ffcb"
       ],
       "layout": "IPY_MODEL_7f1999c3f608414ab46998a8cd8b88e6"
      }
     },
     "71984dd94a7045d1891da0d7b571fdec": {
      "model_module": "@jupyter-widgets/base",
      "model_module_version": "1.2.0",
      "model_name": "LayoutModel",
      "state": {}
     },
     "71ea61d1a5e8404fb66c3ce89c63b130": {
      "model_module": "@jupyter-widgets/controls",
      "model_module_version": "1.5.0",
      "model_name": "DescriptionStyleModel",
      "state": {
       "description_width": ""
      }
     },
     "725972ed0825415d9534f05fc61ef91b": {
      "model_module": "@jupyter-widgets/controls",
      "model_module_version": "1.5.0",
      "model_name": "ButtonModel",
      "state": {
       "description": "upload/download",
       "layout": "IPY_MODEL_ea275347848848668325db75e5e2c2b1",
       "style": "IPY_MODEL_7b85f35d3fa6489c852618638bfa89da"
      }
     },
     "7289c51de03e4269a57b27616ea4293c": {
      "model_module": "@jupyter-widgets/controls",
      "model_module_version": "1.5.0",
      "model_name": "ButtonModel",
      "state": {
       "description": "undo",
       "layout": "IPY_MODEL_46d6d52fa87e4d7484b33f33feba1fc7",
       "style": "IPY_MODEL_df30bf53cb414a89967a586ece789e10"
      }
     },
     "7376b5567ee1454e8c957d875ca90c88": {
      "model_module": "@jupyter-widgets/controls",
      "model_module_version": "1.5.0",
      "model_name": "ButtonStyleModel",
      "state": {}
     },
     "7460a023b7bc4080b8c5c36659467194": {
      "model_module": "@jupyter-widgets/controls",
      "model_module_version": "1.5.0",
      "model_name": "DescriptionStyleModel",
      "state": {
       "description_width": ""
      }
     },
     "74d238917e7e4b71a5b714776d72734a": {
      "model_module": "@jupyter-widgets/base",
      "model_module_version": "1.2.0",
      "model_name": "LayoutModel",
      "state": {
       "display": "none"
      }
     },
     "758e6cd2de9a4cef99df95b5f2d0d637": {
      "model_module": "@jupyter-widgets/controls",
      "model_module_version": "1.5.0",
      "model_name": "DropdownModel",
      "state": {
       "_options_labels": [
        "skeleton",
        "tree",
        "forest",
        "spoke",
        "cluster",
        "category",
        "auto",
        "circle",
        "davidson_harel",
        "drl",
        "fruchterman_reingold",
        "graphopt",
        "grid",
        "kamada_kawai",
        "lgl",
        "mds",
        "random",
        "reingold_tilford",
        "reingold_tilford_circular",
        "star",
        "sugiyama"
       ],
       "index": 10,
       "layout": "IPY_MODEL_2dfc5926ee31401da396687c8393901c",
       "style": "IPY_MODEL_aef57b5580a54ffb9509f7604713869d"
      }
     },
     "75edcd937c604266a6baba63efb66e58": {
      "model_module": "@jupyter-widgets/base",
      "model_module_version": "1.2.0",
      "model_name": "LayoutModel",
      "state": {
       "width": "150px"
      }
     },
     "777c0c62e8ee445aa98fe566cd07363f": {
      "model_module": "@jupyter-widgets/controls",
      "model_module_version": "1.5.0",
      "model_name": "FloatSliderModel",
      "state": {
       "layout": "IPY_MODEL_7f39043411ce46bf84a680f04d285a32",
       "max": 1.9999839298702526,
       "min": -0.1,
       "step": 0.1,
       "style": "IPY_MODEL_699644a2cc414098808bd2f5b91a2ab1",
       "value": 0.49
      }
     },
     "77bae41b31254e3382b4b8b214f90cd5": {
      "model_module": "@jupyter-widgets/controls",
      "model_module_version": "1.5.0",
      "model_name": "ButtonStyleModel",
      "state": {}
     },
     "782f20bca80c47e7848269ed9ab72061": {
      "model_module": "@jupyter-widgets/base",
      "model_module_version": "1.2.0",
      "model_name": "LayoutModel",
      "state": {
       "width": "150px"
      }
     },
     "7911050c735f41cfa9824e3becec116c": {
      "model_module": "@jupyter-widgets/controls",
      "model_module_version": "1.5.0",
      "model_name": "FloatSliderModel",
      "state": {
       "layout": "IPY_MODEL_8018cfe80c8e47a2835a54d6696233d9",
       "max": 1.9999839298702526,
       "min": -0.1,
       "step": 0.1,
       "style": "IPY_MODEL_18653bffe861462f8e16d9009274c10b",
       "value": 0.2
      }
     },
     "7947a515dbf646db8bcd86b31945f9a6": {
      "model_module": "@jupyter-widgets/controls",
      "model_module_version": "1.5.0",
      "model_name": "ButtonStyleModel",
      "state": {}
     },
     "7a29668083a04dab963af418030422cb": {
      "model_module": "@jupyter-widgets/controls",
      "model_module_version": "1.5.0",
      "model_name": "ButtonModel",
      "state": {
       "description": "regulates",
       "layout": "IPY_MODEL_59e6bb9b44904ec2b4151fe299dc9f86",
       "style": "IPY_MODEL_adde2e90419b40c1a9d555ede127d265"
      }
     },
     "7b85f35d3fa6489c852618638bfa89da": {
      "model_module": "@jupyter-widgets/controls",
      "model_module_version": "1.5.0",
      "model_name": "ButtonStyleModel",
      "state": {}
     },
     "7cdf171ac36e414380745cf550ab899a": {
      "model_module": "@jupyter-widgets/controls",
      "model_module_version": "1.5.0",
      "model_name": "ButtonStyleModel",
      "state": {}
     },
     "7d8cfed95a7e4977bf5918df4f73a917": {
      "model_module": "@jupyter-widgets/base",
      "model_module_version": "1.2.0",
      "model_name": "LayoutModel",
      "state": {}
     },
     "7e914041181c475aae8a7b12e75893c1": {
      "model_module": "@jupyter-widgets/controls",
      "model_module_version": "1.5.0",
      "model_name": "ButtonModel",
      "state": {
       "description": "undo",
       "layout": "IPY_MODEL_a65055a296f642f283018c84a356c43c",
       "style": "IPY_MODEL_d3da86ec64df4bc581f41d352c33bf85"
      }
     },
     "7f1999c3f608414ab46998a8cd8b88e6": {
      "model_module": "@jupyter-widgets/base",
      "model_module_version": "1.2.0",
      "model_name": "LayoutModel",
      "state": {}
     },
     "7f39043411ce46bf84a680f04d285a32": {
      "model_module": "@jupyter-widgets/base",
      "model_module_version": "1.2.0",
      "model_name": "LayoutModel",
      "state": {
       "width": "200px"
      }
     },
     "7fc50b65581c4551a8c13e354325969e": {
      "model_module": "@jupyter-widgets/base",
      "model_module_version": "1.2.0",
      "model_name": "LayoutModel",
      "state": {}
     },
     "8018cfe80c8e47a2835a54d6696233d9": {
      "model_module": "@jupyter-widgets/base",
      "model_module_version": "1.2.0",
      "model_name": "LayoutModel",
      "state": {
       "width": "200px"
      }
     },
     "81507057b4464cdc91d97a52c7ae7000": {
      "model_module": "@jupyter-widgets/controls",
      "model_module_version": "1.5.0",
      "model_name": "ButtonStyleModel",
      "state": {}
     },
     "819dd758628a4a7f91a2ce3d55c8201a": {
      "model_module": "@jupyter-widgets/base",
      "model_module_version": "1.2.0",
      "model_name": "LayoutModel",
      "state": {
       "width": "150px"
      }
     },
     "83469263e4da4645a1a928dbda080489": {
      "model_module": "@jupyter-widgets/controls",
      "model_module_version": "1.5.0",
      "model_name": "CheckboxModel",
      "state": {
       "description": "show motifs",
       "disabled": false,
       "layout": "IPY_MODEL_1d7556553df44d129c175ceac2837a8e",
       "style": "IPY_MODEL_84fee7156d8849bea5e1b607b5a042fa",
       "value": true
      }
     },
     "84e8979194df4a25a493a4332a533410": {
      "model_module": "@jupyter-widgets/controls",
      "model_module_version": "1.5.0",
      "model_name": "DescriptionStyleModel",
      "state": {
       "description_width": ""
      }
     },
     "84eb3ece0cf7419b8fdb95012527643b": {
      "model_module": "@jupyter-widgets/base",
      "model_module_version": "1.2.0",
      "model_name": "LayoutModel",
      "state": {
       "width": "150px"
      }
     },
     "84fee7156d8849bea5e1b607b5a042fa": {
      "model_module": "@jupyter-widgets/controls",
      "model_module_version": "1.5.0",
      "model_name": "DescriptionStyleModel",
      "state": {
       "description_width": ""
      }
     },
     "854d47be844141b9bde06fa4a6106968": {
      "model_module": "@jupyter-widgets/controls",
      "model_module_version": "1.5.0",
      "model_name": "DescriptionStyleModel",
      "state": {
       "description_width": ""
      }
     },
     "85cef74499e941e594133fc35ee4a9d5": {
      "model_module": "@jupyter-widgets/base",
      "model_module_version": "1.2.0",
      "model_name": "LayoutModel",
      "state": {
       "width": "150px"
      }
     },
     "8718f1afbfbe42ea89d60f380a0c9642": {
      "model_module": "@jupyter-widgets/controls",
      "model_module_version": "1.5.0",
      "model_name": "DescriptionStyleModel",
      "state": {
       "description_width": ""
      }
     },
     "8938e5002f05481cb124c60ba42dac81": {
      "model_module": "@jupyter-widgets/controls",
      "model_module_version": "1.5.0",
      "model_name": "DescriptionStyleModel",
      "state": {
       "description_width": ""
      }
     },
     "8968a8d160924ae79490665018539cd1": {
      "model_module": "@jupyter-widgets/base",
      "model_module_version": "1.2.0",
      "model_name": "LayoutModel",
      "state": {
       "width": "150px"
      }
     },
     "8a8c59ed90b2447790289cacbf05fbf4": {
      "model_module": "@jupyter-widgets/controls",
      "model_module_version": "1.5.0",
      "model_name": "HBoxModel",
      "state": {
       "children": [
        "IPY_MODEL_276244e44a584090bdccacc6ad30f9c1",
        "IPY_MODEL_a897df04784f4ddbb97679c052ab0856",
        "IPY_MODEL_a5da345927fe49adb35a7cf869e51655"
       ],
       "layout": "IPY_MODEL_d1e16508e2f54799a55e57082fa01e36"
      }
     },
     "8a9fadc999f44f36860b575941793f04": {
      "model_module": "@jupyter-widgets/controls",
      "model_module_version": "1.5.0",
      "model_name": "SliderStyleModel",
      "state": {
       "description_width": ""
      }
     },
     "8b712378dbd44016920a7a43f8316f98": {
      "model_module": "@jupyter-widgets/base",
      "model_module_version": "1.2.0",
      "model_name": "LayoutModel",
      "state": {
       "width": "150px"
      }
     },
     "8ba84198398948c08ddcb9a24bf5e1ab": {
      "model_module": "@jupyter-widgets/base",
      "model_module_version": "1.2.0",
      "model_name": "LayoutModel",
      "state": {
       "width": "150px"
      }
     },
     "8c325c1569c54505a9acde24240f93c9": {
      "model_module": "@jupyter-widgets/controls",
      "model_module_version": "1.5.0",
      "model_name": "DropdownModel",
      "state": {
       "_options_labels": [
        "skeleton",
        "tree",
        "forest",
        "spoke",
        "cluster",
        "category",
        "auto",
        "circle",
        "davidson_harel",
        "drl",
        "fruchterman_reingold",
        "graphopt",
        "grid",
        "kamada_kawai",
        "lgl",
        "mds",
        "random",
        "reingold_tilford",
        "reingold_tilford_circular",
        "star",
        "sugiyama"
       ],
       "index": 10,
       "layout": "IPY_MODEL_b7550f489fa9444e83a3fbf0fb2fae87",
       "style": "IPY_MODEL_854d47be844141b9bde06fa4a6106968"
      }
     },
     "8ccd217ea8cd4f5183e0262ae4e96c58": {
      "model_module": "@jupyter-widgets/controls",
      "model_module_version": "1.5.0",
      "model_name": "ButtonStyleModel",
      "state": {}
     },
     "8d0c48a32be340fcae76ae0aa00aabf2": {
      "model_module": "@jupyter-widgets/controls",
      "model_module_version": "1.5.0",
      "model_name": "ButtonModel",
      "state": {
       "description": "TF only",
       "layout": "IPY_MODEL_b49f40ac7bc24cf0a2a0aeaa65a077ec",
       "style": "IPY_MODEL_bc1518dda80743ccb81bc511723767fb"
      }
     },
     "8d111c8f069d4a009db3f00af77184ed": {
      "model_module": "@jupyter-widgets/base",
      "model_module_version": "1.2.0",
      "model_name": "LayoutModel",
      "state": {
       "width": "150px"
      }
     },
     "8d1e84cb9527424aa2cc68b25f231695": {
      "model_module": "@jupyter-widgets/controls",
      "model_module_version": "1.5.0",
      "model_name": "ButtonModel",
      "state": {
       "description": "targeted by",
       "layout": "IPY_MODEL_f4f504799e6d40599b101f478f93be83",
       "style": "IPY_MODEL_096213e3c67343c3a25f3b76919d2101"
      }
     },
     "8db0815c1a4f4ae08d17c408ab1582a2": {
      "model_module": "@jupyter-widgets/base",
      "model_module_version": "1.2.0",
      "model_name": "LayoutModel",
      "state": {
       "width": "150px"
      }
     },
     "8e0b7914a8f14b19a9113130f1993537": {
      "model_module": "@jupyter-widgets/base",
      "model_module_version": "1.2.0",
      "model_name": "LayoutModel",
      "state": {}
     },
     "8e7aa244c9a7441b9c5d7b14bd6d9bfd": {
      "model_module": "@jupyter-widgets/controls",
      "model_module_version": "1.5.0",
      "model_name": "IntSliderModel",
      "state": {
       "description": "depth",
       "layout": "IPY_MODEL_55541e1580ed43c2b0ef316855cc9595",
       "max": 5,
       "style": "IPY_MODEL_c78b857c77084fec8284ef3be189d13c",
       "value": 1
      }
     },
     "8ea1579c54e742cfbfb5741c13b149a5": {
      "model_module": "@jupyter-widgets/controls",
      "model_module_version": "1.5.0",
      "model_name": "VBoxModel",
      "state": {
       "children": [
        "IPY_MODEL_2c2df265b8e84fe99d3e10f830e82f93",
        "IPY_MODEL_31f58b7544644e11b9f8a243ba2b082c",
        "IPY_MODEL_1e8f6455b0374149b20d8e6e402b63c7",
        "IPY_MODEL_466bad8d615849a2b51fd13d4b7f653b"
       ],
       "layout": "IPY_MODEL_a72635ab74b649e48c6c5ee384d33a1b"
      }
     },
     "8eaf7ed675fe4263a23e42ab9a0e34e7": {
      "model_module": "@jupyter-widgets/base",
      "model_module_version": "1.2.0",
      "model_name": "LayoutModel",
      "state": {}
     },
     "8f3237ae2bd14484959e7c943bb796cc": {
      "model_module": "@jupyter-widgets/base",
      "model_module_version": "1.2.0",
      "model_name": "LayoutModel",
      "state": {}
     },
     "8fc2ba883e6d486facde6c1bd73bb84d": {
      "model_module": "@jupyter-widgets/controls",
      "model_module_version": "1.5.0",
      "model_name": "ButtonModel",
      "state": {
       "description": "focus",
       "layout": "IPY_MODEL_3e51d817fd9641969d64e709125e668c",
       "style": "IPY_MODEL_ac432eb44a6e4568b211e7e2a9695b36"
      }
     },
     "90894cf169474fe1afb3153d97324f91": {
      "model_module": "@jupyter-widgets/base",
      "model_module_version": "1.2.0",
      "model_name": "LayoutModel",
      "state": {}
     },
     "90e41f66c9d74d56b9919fa40dbdf29f": {
      "model_module": "@jupyter-widgets/controls",
      "model_module_version": "1.5.0",
      "model_name": "CheckboxModel",
      "state": {
       "description": "labels",
       "disabled": false,
       "layout": "IPY_MODEL_e5d1224dbdf442bca02f069f93fd08d7",
       "style": "IPY_MODEL_b068593b52204a5baa1697ca39838e6b",
       "value": true
      }
     },
     "92d253809ce24274a48a371a8bbadb86": {
      "model_module": "@jupyter-widgets/base",
      "model_module_version": "1.2.0",
      "model_name": "LayoutModel",
      "state": {}
     },
     "95c450fdd07040bca9ffca3ff0b6e15d": {
      "model_module": "@jupyter-widgets/controls",
      "model_module_version": "1.5.0",
      "model_name": "HBoxModel",
      "state": {
       "children": [
        "IPY_MODEL_13ae1ead9c6e4f9ab9b3f952e1cf6145",
        "IPY_MODEL_33c688c9201f4004af17eca59c7eedde",
        "IPY_MODEL_b65581e3e88542f5ade8033607e37911"
       ],
       "layout": "IPY_MODEL_c67b6c9ce4a9442cbee55a51a3308aec"
      }
     },
     "95e76693855d493cb626c75cd7c24162": {
      "model_module": "@jupyter-widgets/base",
      "model_module_version": "1.2.0",
      "model_name": "LayoutModel",
      "state": {
       "width": "150px"
      }
     },
     "95f7915206e947e091cd57d6a87ff777": {
      "model_module": "@jupyter-widgets/base",
      "model_module_version": "1.2.0",
      "model_name": "LayoutModel",
      "state": {
       "width": "150px"
      }
     },
     "9636d259f2484001b24078297135c2ee": {
      "model_module": "@jupyter-widgets/controls",
      "model_module_version": "1.5.0",
      "model_name": "HBoxModel",
      "state": {
       "children": [
        "IPY_MODEL_a197575b53b94421adc1f1ca3da21f46",
        "IPY_MODEL_38e03b842e044719b51460add38b593e",
        "IPY_MODEL_725972ed0825415d9534f05fc61ef91b"
       ],
       "layout": "IPY_MODEL_b41a3252fa6a4678b8014a0f9545db8b"
      }
     },
     "96688858cc97433e99e84d8c20191469": {
      "model_module": "@jupyter-widgets/controls",
      "model_module_version": "1.5.0",
      "model_name": "DescriptionStyleModel",
      "state": {
       "description_width": ""
      }
     },
     "96cc951d5a0148619169996be82a515e": {
      "model_module": "@jupyter-widgets/controls",
      "model_module_version": "1.5.0",
      "model_name": "SliderStyleModel",
      "state": {
       "description_width": ""
      }
     },
     "971039e26aee44ae9e2d245fefa50e75": {
      "model_module": "@jupyter-widgets/controls",
      "model_module_version": "1.5.0",
      "model_name": "ButtonStyleModel",
      "state": {}
     },
     "97c58a80933344488631b39439fbc3c1": {
      "model_module": "@jupyter-widgets/base",
      "model_module_version": "1.2.0",
      "model_name": "DOMWidgetModel",
      "state": {
       "_model_name": "DOMWidgetModel",
       "_view_module": "SVGCanvas",
       "_view_module_version": "",
       "_view_name": "SVGCanvasView",
       "boundingBox": {
        "height": 1004,
        "width": 1066.1480712890625,
        "x": -98.83983612060547,
        "y": -2
       },
       "command_pending": false,
       "layout": "IPY_MODEL_c19f39037124458ca494596ed4bd15a2",
       "rendered": true,
       "svg_height": 500,
       "svg_style": "{\"background-color\": \"white\"}",
       "svg_width": 500,
       "unwatch_event": "",
       "viewBox": "-19 -10 1020 1020",
       "watch_event": ""
      }
     },
     "97d97a4aa0b6414285eb53ad76087c59": {
      "model_module": "@jupyter-widgets/base",
      "model_module_version": "1.2.0",
      "model_name": "LayoutModel",
      "state": {}
     },
     "9875349e4ce44eaa936fea0a43a90a57": {
      "model_module": "@jupyter-widgets/controls",
      "model_module_version": "1.5.0",
      "model_name": "HTMLModel",
      "state": {
       "layout": "IPY_MODEL_490eea1ee12248eead5e436dba3a4d02",
       "style": "IPY_MODEL_e066da7799d841428e1c4dbd44445c5a",
       "value": "E18 Lhx6"
      }
     },
     "98c413f538964860926eaa59026d3167": {
      "model_module": "@jupyter-widgets/controls",
      "model_module_version": "1.5.0",
      "model_name": "ButtonStyleModel",
      "state": {}
     },
     "9949a0ed3a344c689d49ee58cfcd8d18": {
      "model_module": "@jupyter-widgets/base",
      "model_module_version": "1.2.0",
      "model_name": "LayoutModel",
      "state": {}
     },
     "99511f63cbab4dd99424c4cf092b177e": {
      "model_module": "@jupyter-widgets/controls",
      "model_module_version": "1.5.0",
      "model_name": "IntSliderModel",
      "state": {
       "layout": "IPY_MODEL_782f20bca80c47e7848269ed9ab72061",
       "max": 2000,
       "min": 100,
       "readout": false,
       "step": 10,
       "style": "IPY_MODEL_e3e932ff2c5345aeaedbae9ae23cadf2",
       "value": 500
      }
     },
     "99be63390be4478eab5516630c977d97": {
      "model_module": "@jupyter-widgets/base",
      "model_module_version": "1.2.0",
      "model_name": "LayoutModel",
      "state": {}
     },
     "9b3ac950322f40a58717531ccc5bb97e": {
      "model_module": "@jupyter-widgets/controls",
      "model_module_version": "1.5.0",
      "model_name": "ButtonStyleModel",
      "state": {}
     },
     "9c2af0b827ae4052af9cae083bfb6208": {
      "model_module": "@jupyter-widgets/base",
      "model_module_version": "1.2.0",
      "model_name": "LayoutModel",
      "state": {}
     },
     "9c48b5be7641440d9856f6089a39ca9f": {
      "model_module": "@jupyter-widgets/controls",
      "model_module_version": "1.5.0",
      "model_name": "DescriptionStyleModel",
      "state": {
       "description_width": ""
      }
     },
     "9c490e6cab814b57b6db4ecd828ff482": {
      "model_module": "@jupyter-widgets/base",
      "model_module_version": "1.2.0",
      "model_name": "LayoutModel",
      "state": {}
     },
     "9ccc9ec845244ff2baa9cb2ebe3572a9": {
      "model_module": "@jupyter-widgets/base",
      "model_module_version": "1.2.0",
      "model_name": "LayoutModel",
      "state": {
       "display": "none",
       "width": "150px"
      }
     },
     "9e6457c3140042b5b45aa8c590e16529": {
      "model_module": "@jupyter-widgets/base",
      "model_module_version": "1.2.0",
      "model_name": "LayoutModel",
      "state": {}
     },
     "9faa4b773ddc496888777aba9a687949": {
      "model_module": "@jupyter-widgets/controls",
      "model_module_version": "1.5.0",
      "model_name": "ButtonStyleModel",
      "state": {}
     },
     "9fd04567336b4c228f8b82159f4cd12e": {
      "model_module": "@jupyter-widgets/controls",
      "model_module_version": "1.5.0",
      "model_name": "CheckboxModel",
      "state": {
       "description": "labels",
       "disabled": false,
       "layout": "IPY_MODEL_3f13129471e141838afad8c3de991518",
       "style": "IPY_MODEL_d09b24f01e0941d8af9a99ccc44140db",
       "value": true
      }
     },
     "a0e3f1c5a3cf4c049328ee7125180a8b": {
      "model_module": "@jupyter-widgets/controls",
      "model_module_version": "1.5.0",
      "model_name": "ButtonStyleModel",
      "state": {}
     },
     "a197575b53b94421adc1f1ca3da21f46": {
      "model_module": "@jupyter-widgets/controls",
      "model_module_version": "1.5.0",
      "model_name": "ButtonModel",
      "state": {
       "description": "save",
       "layout": "IPY_MODEL_b95279cc7b8245d384baa80941c5b9ef",
       "style": "IPY_MODEL_245039b890a94ddeac989fc72e051525"
      }
     },
     "a1bc33c85d4c400abdf3a098ff9b2fcb": {
      "model_module": "@jupyter-widgets/base",
      "model_module_version": "1.2.0",
      "model_name": "LayoutModel",
      "state": {}
     },
     "a23b86169bea4a249305c7991cafece9": {
      "model_module": "@jupyter-widgets/base",
      "model_module_version": "1.2.0",
      "model_name": "LayoutModel",
      "state": {}
     },
     "a2aab8590a59466ba171f7985d091393": {
      "model_module": "@jupyter-widgets/base",
      "model_module_version": "1.2.0",
      "model_name": "LayoutModel",
      "state": {}
     },
     "a2c51013cfdf4336bfff0679bdbfdfd6": {
      "model_module": "@jupyter-widgets/base",
      "model_module_version": "1.2.0",
      "model_name": "LayoutModel",
      "state": {}
     },
     "a4638ca4a0734930982d11b418bc253a": {
      "model_module": "@jupyter-widgets/base",
      "model_module_version": "1.2.0",
      "model_name": "LayoutModel",
      "state": {
       "display": "none"
      }
     },
     "a4c7810267344edc8364c32843e815ed": {
      "model_module": "@jupyter-widgets/base",
      "model_module_version": "1.2.0",
      "model_name": "LayoutModel",
      "state": {
       "width": "150px"
      }
     },
     "a52957a44783480faa95c8fb1ec95765": {
      "model_module": "@jupyter-widgets/base",
      "model_module_version": "1.2.0",
      "model_name": "LayoutModel",
      "state": {
       "width": "150px"
      }
     },
     "a5b3e9720180410c86b618a6f93ff97c": {
      "model_module": "@jupyter-widgets/controls",
      "model_module_version": "1.5.0",
      "model_name": "ButtonModel",
      "state": {
       "description": "threshold",
       "layout": "IPY_MODEL_30bd495400694b08ba0bf4165071ab6e",
       "style": "IPY_MODEL_1194d9cffe6242cbb013ab5efab2a83f"
      }
     },
     "a5da345927fe49adb35a7cf869e51655": {
      "model_module": "@jupyter-widgets/controls",
      "model_module_version": "1.5.0",
      "model_name": "VBoxModel",
      "state": {
       "children": [
        "IPY_MODEL_6138612a3dd3413ebc4a205cdad338a8",
        "IPY_MODEL_33a8069757ca4615bc0f8c7c18c00e2d",
        "IPY_MODEL_34327eb6edec4f7e97ac95846a4fc6c0"
       ],
       "layout": "IPY_MODEL_7d8cfed95a7e4977bf5918df4f73a917"
      }
     },
     "a65055a296f642f283018c84a356c43c": {
      "model_module": "@jupyter-widgets/base",
      "model_module_version": "1.2.0",
      "model_name": "LayoutModel",
      "state": {
       "width": "150px"
      }
     },
     "a72635ab74b649e48c6c5ee384d33a1b": {
      "model_module": "@jupyter-widgets/base",
      "model_module_version": "1.2.0",
      "model_name": "LayoutModel",
      "state": {}
     },
     "a826f269a4d34e2f9f61d72b42801c21": {
      "model_module": "@jupyter-widgets/controls",
      "model_module_version": "1.5.0",
      "model_name": "ButtonStyleModel",
      "state": {}
     },
     "a8405547bf40460a90de414b9e8334bf": {
      "model_module": "@jupyter-widgets/controls",
      "model_module_version": "1.5.0",
      "model_name": "ButtonStyleModel",
      "state": {}
     },
     "a897df04784f4ddbb97679c052ab0856": {
      "model_module": "@jupyter-widgets/base",
      "model_module_version": "1.2.0",
      "model_name": "DOMWidgetModel",
      "state": {
       "_model_name": "DOMWidgetModel",
       "_view_module": "SVGCanvas",
       "_view_module_version": "",
       "_view_name": "SVGCanvasView",
       "boundingBox": {},
       "command_pending": false,
       "layout": "IPY_MODEL_9949a0ed3a344c689d49ee58cfcd8d18",
       "rendered": true,
       "svg_height": 238,
       "svg_style": "{}",
       "svg_width": 158,
       "unwatch_event": "",
       "viewBox": "-15 -15 158 238",
       "watch_event": ""
      }
     },
     "a8e0d829db8146469b99678e4837cd84": {
      "model_module": "@jupyter-widgets/controls",
      "model_module_version": "1.5.0",
      "model_name": "ButtonModel",
      "state": {
       "description": "zoom",
       "disabled": true,
       "layout": "IPY_MODEL_9ccc9ec845244ff2baa9cb2ebe3572a9",
       "style": "IPY_MODEL_98c413f538964860926eaa59026d3167"
      }
     },
     "a934d6369bb6401db6e4da1dc95ae34a": {
      "model_module": "@jupyter-widgets/controls",
      "model_module_version": "1.5.0",
      "model_name": "ButtonStyleModel",
      "state": {}
     },
     "ab35dbf290634c6f880ffa23b676aa3b": {
      "model_module": "@jupyter-widgets/controls",
      "model_module_version": "1.5.0",
      "model_name": "ButtonModel",
      "state": {
       "description": "zoom",
       "disabled": true,
       "layout": "IPY_MODEL_0fd5a78ef9c24c3fb3fbcc7821efebc4",
       "style": "IPY_MODEL_a934d6369bb6401db6e4da1dc95ae34a"
      }
     },
     "ac432eb44a6e4568b211e7e2a9695b36": {
      "model_module": "@jupyter-widgets/controls",
      "model_module_version": "1.5.0",
      "model_name": "ButtonStyleModel",
      "state": {}
     },
     "acedf6d593284e56b0b84ea11cfe7047": {
      "model_module": "@jupyter-widgets/base",
      "model_module_version": "1.2.0",
      "model_name": "LayoutModel",
      "state": {
       "width": "150px"
      }
     },
     "ad277ca8dbb9461bb2914d9e405272f3": {
      "model_module": "@jupyter-widgets/base",
      "model_module_version": "1.2.0",
      "model_name": "LayoutModel",
      "state": {}
     },
     "ad31f34be80f4f308bbe10baba88b76a": {
      "model_module": "@jupyter-widgets/controls",
      "model_module_version": "1.5.0",
      "model_name": "ButtonStyleModel",
      "state": {}
     },
     "adde2e90419b40c1a9d555ede127d265": {
      "model_module": "@jupyter-widgets/controls",
      "model_module_version": "1.5.0",
      "model_name": "ButtonStyleModel",
      "state": {}
     },
     "ade44526e7354ed38608eaa02c250ab9": {
      "model_module": "@jupyter-widgets/controls",
      "model_module_version": "1.5.0",
      "model_name": "ButtonModel",
      "state": {
       "description": "ignore",
       "layout": "IPY_MODEL_268c18e7e4fe4ed3a43681e91637e276",
       "style": "IPY_MODEL_d610b794a17b4ec58103ddf721bbd726"
      }
     },
     "aead8685834544fb84f773a271e820bb": {
      "model_module": "@jupyter-widgets/controls",
      "model_module_version": "1.5.0",
      "model_name": "HBoxModel",
      "state": {
       "children": [
        "IPY_MODEL_04938e23ab8f4a97a09418df0b381ed8",
        "IPY_MODEL_522a9b73dd8247179c55414928301454",
        "IPY_MODEL_3a026bc65cb84a49b2fefb492d6a246f"
       ],
       "layout": "IPY_MODEL_4c465197070f4773a540d5b1837d5ba2"
      }
     },
     "aef57b5580a54ffb9509f7604713869d": {
      "model_module": "@jupyter-widgets/controls",
      "model_module_version": "1.5.0",
      "model_name": "DescriptionStyleModel",
      "state": {
       "description_width": ""
      }
     },
     "af7846eae21e4bf49c4996f0a955df5f": {
      "model_module": "@jupyter-widgets/controls",
      "model_module_version": "1.5.0",
      "model_name": "DescriptionStyleModel",
      "state": {
       "description_width": ""
      }
     },
     "afee404f7cef493cacfe94f2102578f8": {
      "model_module": "@jupyter-widgets/base",
      "model_module_version": "1.2.0",
      "model_name": "LayoutModel",
      "state": {
       "width": "150px"
      }
     },
     "b068593b52204a5baa1697ca39838e6b": {
      "model_module": "@jupyter-widgets/controls",
      "model_module_version": "1.5.0",
      "model_name": "DescriptionStyleModel",
      "state": {
       "description_width": ""
      }
     },
     "b24b305b846e4847aa5a7e61ae4e0f7e": {
      "model_module": "@jupyter-widgets/controls",
      "model_module_version": "1.5.0",
      "model_name": "SliderStyleModel",
      "state": {
       "description_width": ""
      }
     },
     "b3016c8d6cec40a085fe1676e05f904a": {
      "model_module": "@jupyter-widgets/base",
      "model_module_version": "1.2.0",
      "model_name": "LayoutModel",
      "state": {
       "width": "150px"
      }
     },
     "b41a3252fa6a4678b8014a0f9545db8b": {
      "model_module": "@jupyter-widgets/base",
      "model_module_version": "1.2.0",
      "model_name": "LayoutModel",
      "state": {}
     },
     "b49f40ac7bc24cf0a2a0aeaa65a077ec": {
      "model_module": "@jupyter-widgets/base",
      "model_module_version": "1.2.0",
      "model_name": "LayoutModel",
      "state": {
       "width": "150px"
      }
     },
     "b556f9c2a28d4a98ab0706fb1f2644bd": {
      "model_module": "@jupyter-widgets/controls",
      "model_module_version": "1.5.0",
      "model_name": "ButtonStyleModel",
      "state": {}
     },
     "b57b36841c0241d5b99659b4368f1932": {
      "model_module": "@jupyter-widgets/base",
      "model_module_version": "1.2.0",
      "model_name": "LayoutModel",
      "state": {}
     },
     "b65581e3e88542f5ade8033607e37911": {
      "model_module": "@jupyter-widgets/controls",
      "model_module_version": "1.5.0",
      "model_name": "CheckboxModel",
      "state": {
       "description": "outlined",
       "disabled": false,
       "layout": "IPY_MODEL_3bbdc1cd2397487fa1178e34863b4535",
       "style": "IPY_MODEL_f553694926054fde91d5675a487e121a",
       "value": false
      }
     },
     "b6ab4116d6e54e98bc805e6b4200e5e7": {
      "model_module": "@jupyter-widgets/controls",
      "model_module_version": "1.5.0",
      "model_name": "HBoxModel",
      "state": {
       "children": [
        "IPY_MODEL_ba05c1ab46b048569b795e3a92072dc7",
        "IPY_MODEL_1c46ee48e5a54940b4bb5cdd3d70b897",
        "IPY_MODEL_baa468a169e046c9b75df9bf7b8d9735"
       ],
       "layout": "IPY_MODEL_2d14c90d4f65400a8c1f43364a2a1f1d"
      }
     },
     "b7550f489fa9444e83a3fbf0fb2fae87": {
      "model_module": "@jupyter-widgets/base",
      "model_module_version": "1.2.0",
      "model_name": "LayoutModel",
      "state": {
       "width": "150px"
      }
     },
     "b77e2ac4e25549b4b28da0e979907ae0": {
      "model_module": "@jupyter-widgets/controls",
      "model_module_version": "1.5.0",
      "model_name": "ButtonModel",
      "state": {
       "description": "list nodes",
       "layout": "IPY_MODEL_8db0815c1a4f4ae08d17c408ab1582a2",
       "style": "IPY_MODEL_9faa4b773ddc496888777aba9a687949"
      }
     },
     "b95279cc7b8245d384baa80941c5b9ef": {
      "model_module": "@jupyter-widgets/base",
      "model_module_version": "1.2.0",
      "model_name": "LayoutModel",
      "state": {
       "width": "150px"
      }
     },
     "ba05c1ab46b048569b795e3a92072dc7": {
      "model_module": "@jupyter-widgets/controls",
      "model_module_version": "1.5.0",
      "model_name": "IntSliderModel",
      "state": {
       "description": "labels",
       "layout": "IPY_MODEL_03b770bcc9aa4ef6af1c171482477092",
       "max": 40,
       "style": "IPY_MODEL_8a9fadc999f44f36860b575941793f04",
       "value": 7
      }
     },
     "baa468a169e046c9b75df9bf7b8d9735": {
      "model_module": "@jupyter-widgets/controls",
      "model_module_version": "1.5.0",
      "model_name": "CheckboxModel",
      "state": {
       "description": "outlined",
       "disabled": false,
       "layout": "IPY_MODEL_410c98e2af0b42699939a4e084715e65",
       "style": "IPY_MODEL_381bf93c7a7042a1b9a5a066bff2d6a0",
       "value": true
      }
     },
     "bac93a61001546b5a1595b64a2f699f2": {
      "model_module": "@jupyter-widgets/base",
      "model_module_version": "1.2.0",
      "model_name": "LayoutModel",
      "state": {
       "width": "150px"
      }
     },
     "bb6b1e3df67f425c866bc60633be05b2": {
      "model_module": "@jupyter-widgets/base",
      "model_module_version": "1.2.0",
      "model_name": "LayoutModel",
      "state": {
       "display": "none",
       "width": "150px"
      }
     },
     "bc1518dda80743ccb81bc511723767fb": {
      "model_module": "@jupyter-widgets/controls",
      "model_module_version": "1.5.0",
      "model_name": "ButtonStyleModel",
      "state": {}
     },
     "bcd68db71b4a47ff84c3f48b956f2c3c": {
      "model_module": "@jupyter-widgets/controls",
      "model_module_version": "1.5.0",
      "model_name": "ButtonStyleModel",
      "state": {}
     },
     "bd6b262c6405479dadfdbb02b5f77306": {
      "model_module": "@jupyter-widgets/base",
      "model_module_version": "1.2.0",
      "model_name": "DOMWidgetModel",
      "state": {
       "_model_name": "DOMWidgetModel",
       "_view_module": "JSProxy",
       "_view_module_version": "",
       "_view_name": "JSProxyView",
       "callback_results": [],
       "commands": [],
       "layout": "IPY_MODEL_4b4999f6991d444e994bd06f72c69c89",
       "results": [
        18,
        [
         {
          "jquery": "3.4.1",
          "length": 1
         },
         {
          "jquery": "3.4.1",
          "length": 1
         },
         null
        ]
       ]
      }
     },
     "be828c6e4a304717ae81756e0e630bad": {
      "model_module": "@jupyter-widgets/base",
      "model_module_version": "1.2.0",
      "model_name": "LayoutModel",
      "state": {
       "width": "150px"
      }
     },
     "bff977e4aaf8401e81d0514e09869081": {
      "model_module": "@jupyter-widgets/controls",
      "model_module_version": "1.5.0",
      "model_name": "ButtonStyleModel",
      "state": {}
     },
     "c17ef77ab0c04970a96fc8fa23557d50": {
      "model_module": "@jupyter-widgets/controls",
      "model_module_version": "1.5.0",
      "model_name": "ButtonModel",
      "state": {
       "description": "split",
       "layout": "IPY_MODEL_012d0b2fc6634181a2b6ae7c12bbf8f0",
       "style": "IPY_MODEL_77bae41b31254e3382b4b8b214f90cd5"
      }
     },
     "c195ad2116a44c3e962aba79f1ed27fc": {
      "model_module": "@jupyter-widgets/base",
      "model_module_version": "1.2.0",
      "model_name": "LayoutModel",
      "state": {}
     },
     "c19f39037124458ca494596ed4bd15a2": {
      "model_module": "@jupyter-widgets/base",
      "model_module_version": "1.2.0",
      "model_name": "LayoutModel",
      "state": {
       "display": "none"
      }
     },
     "c255bb864a6d4328bff4e6d70b1be42a": {
      "model_module": "@jupyter-widgets/base",
      "model_module_version": "1.2.0",
      "model_name": "LayoutModel",
      "state": {
       "width": "150px"
      }
     },
     "c48e65fece844f5f9de306972a1e7c68": {
      "model_module": "@jupyter-widgets/controls",
      "model_module_version": "1.5.0",
      "model_name": "ButtonStyleModel",
      "state": {}
     },
     "c4c2a410c3d7400db2869c8685d61342": {
      "model_module": "@jupyter-widgets/base",
      "model_module_version": "1.2.0",
      "model_name": "LayoutModel",
      "state": {
       "width": "150px"
      }
     },
     "c588918d5c294e0c9dc285b79f889543": {
      "model_module": "@jupyter-widgets/controls",
      "model_module_version": "1.5.0",
      "model_name": "SliderStyleModel",
      "state": {
       "description_width": ""
      }
     },
     "c59670ae1aec4900bd9ffefb851ade49": {
      "model_module": "@jupyter-widgets/base",
      "model_module_version": "1.2.0",
      "model_name": "LayoutModel",
      "state": {
       "width": "150px"
      }
     },
     "c5c01d8bbb1e4193b8df60ccadf7d9d9": {
      "model_module": "@jupyter-widgets/controls",
      "model_module_version": "1.5.0",
      "model_name": "DescriptionStyleModel",
      "state": {
       "description_width": ""
      }
     },
     "c67b6c9ce4a9442cbee55a51a3308aec": {
      "model_module": "@jupyter-widgets/base",
      "model_module_version": "1.2.0",
      "model_name": "LayoutModel",
      "state": {}
     },
     "c6a32cf3c6b048b285522f94ff0e0e99": {
      "model_module": "@jupyter-widgets/controls",
      "model_module_version": "1.5.0",
      "model_name": "HBoxModel",
      "state": {
       "children": [
        "IPY_MODEL_f0c25b3dd5f74b868e35c36bec3d0132",
        "IPY_MODEL_5e37872b9d43460aab61443e5b7f65cc"
       ],
       "layout": "IPY_MODEL_5bf6d4ae4a2a4d8eaed1e47be1d42af1"
      }
     },
     "c77ebf05cdbb4b2b9679d01be08e1c96": {
      "model_module": "@jupyter-widgets/controls",
      "model_module_version": "1.5.0",
      "model_name": "DescriptionStyleModel",
      "state": {
       "description_width": ""
      }
     },
     "c78b857c77084fec8284ef3be189d13c": {
      "model_module": "@jupyter-widgets/controls",
      "model_module_version": "1.5.0",
      "model_name": "SliderStyleModel",
      "state": {
       "description_width": ""
      }
     },
     "c8f353df99014b05b22a48d32488d22b": {
      "model_module": "@jupyter-widgets/controls",
      "model_module_version": "1.5.0",
      "model_name": "ButtonModel",
      "state": {
       "description": "snapshot",
       "layout": "IPY_MODEL_75edcd937c604266a6baba63efb66e58",
       "style": "IPY_MODEL_7376b5567ee1454e8c957d875ca90c88"
      }
     },
     "c8f92d2210a848fe9bfe88a5a31a3126": {
      "model_module": "@jupyter-widgets/controls",
      "model_module_version": "1.5.0",
      "model_name": "ButtonModel",
      "state": {
       "description": "ignore",
       "layout": "IPY_MODEL_a52957a44783480faa95c8fb1ec95765",
       "style": "IPY_MODEL_a826f269a4d34e2f9f61d72b42801c21"
      }
     },
     "c91392686af04d38ad85b65611d42c13": {
      "model_module": "@jupyter-widgets/controls",
      "model_module_version": "1.5.0",
      "model_name": "DescriptionStyleModel",
      "state": {
       "description_width": ""
      }
     },
     "c95cdc9fccd4415a8fa92377a50f4d4b": {
      "model_module": "@jupyter-widgets/controls",
      "model_module_version": "1.5.0",
      "model_name": "ButtonStyleModel",
      "state": {}
     },
     "cb6663c8a3144f7582c9afa93f404a50": {
      "model_module": "@jupyter-widgets/base",
      "model_module_version": "1.2.0",
      "model_name": "LayoutModel",
      "state": {}
     },
     "cbbd7013840a4857a1c6bbdde2e5374f": {
      "model_module": "@jupyter-widgets/base",
      "model_module_version": "1.2.0",
      "model_name": "LayoutModel",
      "state": {
       "width": "150px"
      }
     },
     "ccbd8a16c5224fa68a00d3e09abe0a0a": {
      "model_module": "@jupyter-widgets/base",
      "model_module_version": "1.2.0",
      "model_name": "LayoutModel",
      "state": {
       "width": "150px"
      }
     },
     "cd7247b9b4e0422b8cd4b84fc7eafae9": {
      "model_module": "@jupyter-widgets/base",
      "model_module_version": "1.2.0",
      "model_name": "LayoutModel",
      "state": {
       "width": "150px"
      }
     },
     "d09b24f01e0941d8af9a99ccc44140db": {
      "model_module": "@jupyter-widgets/controls",
      "model_module_version": "1.5.0",
      "model_name": "DescriptionStyleModel",
      "state": {
       "description_width": ""
      }
     },
     "d16223b71cee4a4987927b26445c605a": {
      "model_module": "@jupyter-widgets/controls",
      "model_module_version": "1.5.0",
      "model_name": "ButtonModel",
      "state": {
       "description": "trim",
       "layout": "IPY_MODEL_819dd758628a4a7f91a2ce3d55c8201a",
       "style": "IPY_MODEL_26b067562b764c9bbedbde8b2eea01b3"
      }
     },
     "d1e16508e2f54799a55e57082fa01e36": {
      "model_module": "@jupyter-widgets/base",
      "model_module_version": "1.2.0",
      "model_name": "LayoutModel",
      "state": {}
     },
     "d3a947760de94ce48c7ea1d2c185eca9": {
      "model_module": "@jupyter-widgets/controls",
      "model_module_version": "1.5.0",
      "model_name": "IntSliderModel",
      "state": {
       "description": "side",
       "layout": "IPY_MODEL_a23b86169bea4a249305c7991cafece9",
       "max": 4000,
       "min": 500,
       "style": "IPY_MODEL_11d200a0330949d88ad0373f596e0ca2",
       "value": 1000
      }
     },
     "d3da86ec64df4bc581f41d352c33bf85": {
      "model_module": "@jupyter-widgets/controls",
      "model_module_version": "1.5.0",
      "model_name": "ButtonStyleModel",
      "state": {}
     },
     "d415c7cf83494feb8b24f1c7abcdb187": {
      "model_module": "@jupyter-widgets/base",
      "model_module_version": "1.2.0",
      "model_name": "LayoutModel",
      "state": {
       "width": "200px"
      }
     },
     "d44b0103dcc34761835736bf7d7a691d": {
      "model_module": "@jupyter-widgets/controls",
      "model_module_version": "1.5.0",
      "model_name": "ButtonModel",
      "state": {
       "description": "threshold",
       "layout": "IPY_MODEL_2a3a27aa9e024ca39fe07cbee468d289",
       "style": "IPY_MODEL_252c175173b244ac9b59ec8f55452232"
      }
     },
     "d45f8e5f358942009cc89fd237474205": {
      "model_module": "@jupyter-widgets/base",
      "model_module_version": "1.2.0",
      "model_name": "LayoutModel",
      "state": {
       "width": "50px"
      }
     },
     "d610b794a17b4ec58103ddf721bbd726": {
      "model_module": "@jupyter-widgets/controls",
      "model_module_version": "1.5.0",
      "model_name": "ButtonStyleModel",
      "state": {}
     },
     "d6c769edd6e84b23b642b5bc0a72f77f": {
      "model_module": "@jupyter-widgets/base",
      "model_module_version": "1.2.0",
      "model_name": "LayoutModel",
      "state": {
       "width": "50px"
      }
     },
     "d7f5cb0fc27b4382a89d3396df50b35d": {
      "model_module": "@jupyter-widgets/controls",
      "model_module_version": "1.5.0",
      "model_name": "SliderStyleModel",
      "state": {
       "description_width": ""
      }
     },
     "d8364b829bb645e1954d80e5d155f191": {
      "model_module": "@jupyter-widgets/controls",
      "model_module_version": "1.5.0",
      "model_name": "DescriptionStyleModel",
      "state": {
       "description_width": ""
      }
     },
     "d848fbbed6994e89910067c6d58612ca": {
      "model_module": "@jupyter-widgets/controls",
      "model_module_version": "1.5.0",
      "model_name": "DescriptionStyleModel",
      "state": {
       "description_width": ""
      }
     },
     "d9d789c3f7a9441783b8a7d945134841": {
      "model_module": "@jupyter-widgets/controls",
      "model_module_version": "1.5.0",
      "model_name": "ButtonModel",
      "state": {
       "description": "reg edges",
       "layout": "IPY_MODEL_be828c6e4a304717ae81756e0e630bad",
       "style": "IPY_MODEL_b556f9c2a28d4a98ab0706fb1f2644bd"
      }
     },
     "da4942b74daf4f468478a410c4fca5d2": {
      "model_module": "@jupyter-widgets/controls",
      "model_module_version": "1.5.0",
      "model_name": "ButtonStyleModel",
      "state": {}
     },
     "daa2c9b9c30f4f4aa02449c88e511394": {
      "model_module": "@jupyter-widgets/base",
      "model_module_version": "1.2.0",
      "model_name": "LayoutModel",
      "state": {
       "display": "none",
       "width": "150px"
      }
     },
     "db307b7dcd5347fc8c742a9447793876": {
      "model_module": "@jupyter-widgets/controls",
      "model_module_version": "1.5.0",
      "model_name": "ButtonModel",
      "state": {
       "description": "snapshot",
       "layout": "IPY_MODEL_e0d906d04b7f4d838a2383b51f59ae9e",
       "style": "IPY_MODEL_e9b80e81497e40819673cee39e061039"
      }
     },
     "db62648999af4952a17b36f8ac7f60b9": {
      "model_module": "@jupyter-widgets/controls",
      "model_module_version": "1.5.0",
      "model_name": "ButtonModel",
      "state": {
       "description": "layout",
       "layout": "IPY_MODEL_f69830bed2074ff09498a819cd8a0292",
       "style": "IPY_MODEL_2fd1b50a910343f997bad986aa9df357"
      }
     },
     "dd5d4b7e3a1c46b8b284e4449a1f4896": {
      "model_module": "@jupyter-widgets/controls",
      "model_module_version": "1.5.0",
      "model_name": "ButtonModel",
      "state": {
       "description": "draw",
       "layout": "IPY_MODEL_cd7247b9b4e0422b8cd4b84fc7eafae9",
       "style": "IPY_MODEL_18922d5b216d4192816fecdde5459795"
      }
     },
     "df30bf53cb414a89967a586ece789e10": {
      "model_module": "@jupyter-widgets/controls",
      "model_module_version": "1.5.0",
      "model_name": "ButtonStyleModel",
      "state": {}
     },
     "dfebbaa84dea4a0fb99c8a6d85e6b6dc": {
      "model_module": "@jupyter-widgets/controls",
      "model_module_version": "1.5.0",
      "model_name": "DropdownModel",
      "state": {
       "_options_labels": [
        "PNG",
        "TIFF"
       ],
       "index": 0,
       "layout": "IPY_MODEL_d6c769edd6e84b23b642b5bc0a72f77f",
       "style": "IPY_MODEL_4f84e687af714493967618c30fb42fad"
      }
     },
     "e066da7799d841428e1c4dbd44445c5a": {
      "model_module": "@jupyter-widgets/controls",
      "model_module_version": "1.5.0",
      "model_name": "DescriptionStyleModel",
      "state": {
       "description_width": ""
      }
     },
     "e0964d9c5b7a4cc79a056af052dc6145": {
      "model_module": "@jupyter-widgets/controls",
      "model_module_version": "1.5.0",
      "model_name": "ButtonStyleModel",
      "state": {}
     },
     "e0c9a5fdea784ed39b7d03a1ee66762a": {
      "model_module": "@jupyter-widgets/controls",
      "model_module_version": "1.5.0",
      "model_name": "ButtonModel",
      "state": {
       "description": "TF only",
       "layout": "IPY_MODEL_ccbd8a16c5224fa68a00d3e09abe0a0a",
       "style": "IPY_MODEL_3946f78f191f426080eb6d3d48b94a37"
      }
     },
     "e0d906d04b7f4d838a2383b51f59ae9e": {
      "model_module": "@jupyter-widgets/base",
      "model_module_version": "1.2.0",
      "model_name": "LayoutModel",
      "state": {
       "width": "150px"
      }
     },
     "e13f994f84f74f8bb7f837523bb46207": {
      "model_module": "@jupyter-widgets/controls",
      "model_module_version": "1.5.0",
      "model_name": "IntSliderModel",
      "state": {
       "description": "depth",
       "layout": "IPY_MODEL_33bef2d03eba492babd88be713e3e6fa",
       "max": 5,
       "style": "IPY_MODEL_96cc951d5a0148619169996be82a515e",
       "value": 2
      }
     },
     "e37e0420ba5e4398935bb1ea2db94479": {
      "model_module": "@jupyter-widgets/base",
      "model_module_version": "1.2.0",
      "model_name": "LayoutModel",
      "state": {
       "display": "none"
      }
     },
     "e3ae6902310548c08f5bcad36574954a": {
      "model_module": "@jupyter-widgets/controls",
      "model_module_version": "1.5.0",
      "model_name": "ButtonModel",
      "state": {
       "description": "list edges",
       "layout": "IPY_MODEL_85cef74499e941e594133fc35ee4a9d5",
       "style": "IPY_MODEL_2b9159fb5daf4399920a24b30be3c431"
      }
     },
     "e3e932ff2c5345aeaedbae9ae23cadf2": {
      "model_module": "@jupyter-widgets/controls",
      "model_module_version": "1.5.0",
      "model_name": "SliderStyleModel",
      "state": {
       "description_width": ""
      }
     },
     "e5cb8d232de141a2a9f4c2a476a7b85b": {
      "model_module": "@jupyter-widgets/controls",
      "model_module_version": "1.5.0",
      "model_name": "CheckboxModel",
      "state": {
       "description": "show preview",
       "disabled": false,
       "layout": "IPY_MODEL_97d97a4aa0b6414285eb53ad76087c59",
       "style": "IPY_MODEL_96688858cc97433e99e84d8c20191469",
       "value": false
      }
     },
     "e5d1224dbdf442bca02f069f93fd08d7": {
      "model_module": "@jupyter-widgets/base",
      "model_module_version": "1.2.0",
      "model_name": "LayoutModel",
      "state": {}
     },
     "e6106bc8958344878020d292b16b7874": {
      "model_module": "@jupyter-widgets/base",
      "model_module_version": "1.2.0",
      "model_name": "LayoutModel",
      "state": {
       "width": "50px"
      }
     },
     "e841c9bf43524fdd829d3f509a84825a": {
      "model_module": "@jupyter-widgets/base",
      "model_module_version": "1.2.0",
      "model_name": "LayoutModel",
      "state": {}
     },
     "e9b80e81497e40819673cee39e061039": {
      "model_module": "@jupyter-widgets/controls",
      "model_module_version": "1.5.0",
      "model_name": "ButtonStyleModel",
      "state": {}
     },
     "ea275347848848668325db75e5e2c2b1": {
      "model_module": "@jupyter-widgets/base",
      "model_module_version": "1.2.0",
      "model_name": "LayoutModel",
      "state": {
       "width": "150px"
      }
     },
     "ea5f53f7ff3149a89379eecb2fbfc1e5": {
      "model_module": "@jupyter-widgets/controls",
      "model_module_version": "1.5.0",
      "model_name": "ButtonModel",
      "state": {
       "description": "trim",
       "layout": "IPY_MODEL_23715690e210416c84d11e25c90a7bdd",
       "style": "IPY_MODEL_c48e65fece844f5f9de306972a1e7c68"
      }
     },
     "eb5cd39c3d5d47249b68f7bed9e2f57d": {
      "model_module": "@jupyter-widgets/controls",
      "model_module_version": "1.5.0",
      "model_name": "DescriptionStyleModel",
      "state": {
       "description_width": ""
      }
     },
     "edddd4b7c158469aae43cbba2fa18113": {
      "model_module": "@jupyter-widgets/base",
      "model_module_version": "1.2.0",
      "model_name": "LayoutModel",
      "state": {}
     },
     "ededca1b35f942d8acfe0f9555d6e9ec": {
      "model_module": "@jupyter-widgets/base",
      "model_module_version": "1.2.0",
      "model_name": "LayoutModel",
      "state": {}
     },
     "f0c25b3dd5f74b868e35c36bec3d0132": {
      "model_module": "@jupyter-widgets/controls",
      "model_module_version": "1.5.0",
      "model_name": "ButtonModel",
      "state": {
       "description": "match",
       "layout": "IPY_MODEL_c255bb864a6d4328bff4e6d70b1be42a",
       "style": "IPY_MODEL_a8405547bf40460a90de414b9e8334bf"
      }
     },
     "f27b621a786b41e0a9a4213a65b88c9e": {
      "model_module": "@jupyter-widgets/controls",
      "model_module_version": "1.5.0",
      "model_name": "ButtonModel",
      "state": {
       "description": "upload/download",
       "layout": "IPY_MODEL_acedf6d593284e56b0b84ea11cfe7047",
       "style": "IPY_MODEL_8ccd217ea8cd4f5183e0262ae4e96c58"
      }
     },
     "f32b9b3ab46c45ad8488fbc01e977866": {
      "model_module": "@jupyter-widgets/controls",
      "model_module_version": "1.5.0",
      "model_name": "ButtonStyleModel",
      "state": {}
     },
     "f32baf8161fd48e8a0c2dc4ab6457670": {
      "model_module": "@jupyter-widgets/controls",
      "model_module_version": "1.5.0",
      "model_name": "HBoxModel",
      "state": {
       "children": [
        "IPY_MODEL_59c67f43417945faadc57f34b29092d0",
        "IPY_MODEL_d3a947760de94ce48c7ea1d2c185eca9",
        "IPY_MODEL_c8f353df99014b05b22a48d32488d22b"
       ],
       "layout": "IPY_MODEL_44b117b9ce71428391570dfb33c204b1"
      }
     },
     "f403cc61a0194c2d9b7c97c3aedfbfb8": {
      "model_module": "@jupyter-widgets/controls",
      "model_module_version": "1.5.0",
      "model_name": "ButtonStyleModel",
      "state": {}
     },
     "f4e60066d268411598a847448713c21a": {
      "model_module": "@jupyter-widgets/controls",
      "model_module_version": "1.5.0",
      "model_name": "ButtonModel",
      "state": {
       "description": "draw",
       "layout": "IPY_MODEL_b3016c8d6cec40a085fe1676e05f904a",
       "style": "IPY_MODEL_6e21d971ad094c55b77da27d4f5e880c"
      }
     },
     "f4f504799e6d40599b101f478f93be83": {
      "model_module": "@jupyter-widgets/base",
      "model_module_version": "1.2.0",
      "model_name": "LayoutModel",
      "state": {
       "width": "150px"
      }
     },
     "f553694926054fde91d5675a487e121a": {
      "model_module": "@jupyter-widgets/controls",
      "model_module_version": "1.5.0",
      "model_name": "DescriptionStyleModel",
      "state": {
       "description_width": ""
      }
     },
     "f6088d41cc4b45cfb277cc61d2f6037c": {
      "model_module": "@jupyter-widgets/controls",
      "model_module_version": "1.5.0",
      "model_name": "ButtonModel",
      "state": {
       "description": "load",
       "layout": "IPY_MODEL_8b712378dbd44016920a7a43f8316f98",
       "style": "IPY_MODEL_bff977e4aaf8401e81d0514e09869081"
      }
     },
     "f69830bed2074ff09498a819cd8a0292": {
      "model_module": "@jupyter-widgets/base",
      "model_module_version": "1.2.0",
      "model_name": "LayoutModel",
      "state": {
       "width": "150px"
      }
     },
     "f7f1739d44f54c1cb47184c2ff739553": {
      "model_module": "@jupyter-widgets/controls",
      "model_module_version": "1.5.0",
      "model_name": "TextareaModel",
      "state": {
       "description": "status",
       "layout": "IPY_MODEL_8f3237ae2bd14484959e7c943bb796cc",
       "style": "IPY_MODEL_3e85a34a8f59414a9bf119cbbb70a4ca",
       "value": "Drawing graph: ((78125, 7511), 7511)"
      }
     },
     "f93731c776c34cd7a56a5d41131ed00e": {
      "model_module": "@jupyter-widgets/base",
      "model_module_version": "1.2.0",
      "model_name": "LayoutModel",
      "state": {}
     },
     "fa731a7222794f02a1d236a7ef1c9758": {
      "model_module": "@jupyter-widgets/controls",
      "model_module_version": "1.5.0",
      "model_name": "CheckboxModel",
      "state": {
       "description": "settings",
       "disabled": false,
       "layout": "IPY_MODEL_0df8483643894a4bb4a8561c21578a9b",
       "style": "IPY_MODEL_1deef9e3237c4714b877f782f571388d",
       "value": true
      }
     },
     "fb12a78834f042b78e28ab1a590ed0de": {
      "model_module": "@jupyter-widgets/controls",
      "model_module_version": "1.5.0",
      "model_name": "DescriptionStyleModel",
      "state": {
       "description_width": ""
      }
     },
     "fb9aa0ef0ee24347ac6aa8ba62fe7505": {
      "model_module": "@jupyter-widgets/base",
      "model_module_version": "1.2.0",
      "model_name": "LayoutModel",
      "state": {
       "width": "150px"
      }
     },
     "fea401bd62e6403e92bf74589dc5ebce": {
      "model_module": "@jupyter-widgets/base",
      "model_module_version": "1.2.0",
      "model_name": "LayoutModel",
      "state": {}
     },
     "fed8600aa6d74dd8a1d8834a1aba420a": {
      "model_module": "@jupyter-widgets/base",
      "model_module_version": "1.2.0",
      "model_name": "LayoutModel",
      "state": {}
     }
    },
    "version_major": 2,
    "version_minor": 0
   }
  }
 },
 "nbformat": 4,
 "nbformat_minor": 1
}
